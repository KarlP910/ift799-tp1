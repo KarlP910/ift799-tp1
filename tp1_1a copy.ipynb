{
 "cells": [
  {
   "cell_type": "markdown",
   "metadata": {},
   "source": [
    "Voici les CIP des membres de l'équipe\n",
    "\n",
    "- Karl Plourde - PLOK2502\n"
   ]
  },
  {
   "cell_type": "code",
   "execution_count": 1,
   "metadata": {},
   "outputs": [],
   "source": [
    "import pandas as pd\n",
    "import numpy as np"
   ]
  },
  {
   "cell_type": "code",
   "execution_count": 2,
   "metadata": {},
   "outputs": [],
   "source": [
    "#data_df = pd.read_csv('data/data.csv')\n",
    "#labels_df = pd.read_csv('data/labels.csv')"
   ]
  },
  {
   "cell_type": "code",
   "execution_count": 3,
   "metadata": {},
   "outputs": [
    {
     "data": {
      "text/html": [
       "<div>\n",
       "<style scoped>\n",
       "    .dataframe tbody tr th:only-of-type {\n",
       "        vertical-align: middle;\n",
       "    }\n",
       "\n",
       "    .dataframe tbody tr th {\n",
       "        vertical-align: top;\n",
       "    }\n",
       "\n",
       "    .dataframe thead th {\n",
       "        text-align: right;\n",
       "    }\n",
       "</style>\n",
       "<table border=\"1\" class=\"dataframe\">\n",
       "  <thead>\n",
       "    <tr style=\"text-align: right;\">\n",
       "      <th></th>\n",
       "      <th>gene_3307</th>\n",
       "      <th>gene_19463</th>\n",
       "      <th>gene_9021</th>\n",
       "      <th>gene_10074</th>\n",
       "      <th>gene_5026</th>\n",
       "      <th>gene_5531</th>\n",
       "      <th>gene_8125</th>\n",
       "      <th>gene_19136</th>\n",
       "      <th>gene_7545</th>\n",
       "      <th>gene_19284</th>\n",
       "      <th>...</th>\n",
       "      <th>gene_10430</th>\n",
       "      <th>gene_16238</th>\n",
       "      <th>gene_2106</th>\n",
       "      <th>gene_11667</th>\n",
       "      <th>gene_541</th>\n",
       "      <th>gene_3277</th>\n",
       "      <th>gene_9750</th>\n",
       "      <th>gene_14795</th>\n",
       "      <th>gene_12090</th>\n",
       "      <th>Class</th>\n",
       "    </tr>\n",
       "  </thead>\n",
       "  <tbody>\n",
       "    <tr>\n",
       "      <th>0</th>\n",
       "      <td>11.415758</td>\n",
       "      <td>6.713792</td>\n",
       "      <td>9.717445</td>\n",
       "      <td>5.462978</td>\n",
       "      <td>3.188164</td>\n",
       "      <td>10.220161</td>\n",
       "      <td>9.344651</td>\n",
       "      <td>7.224937</td>\n",
       "      <td>10.011297</td>\n",
       "      <td>2.015391</td>\n",
       "      <td>...</td>\n",
       "      <td>5.267892</td>\n",
       "      <td>1.334282</td>\n",
       "      <td>8.364734</td>\n",
       "      <td>4.583411</td>\n",
       "      <td>12.289624</td>\n",
       "      <td>0.00000</td>\n",
       "      <td>6.685632</td>\n",
       "      <td>0.000000</td>\n",
       "      <td>6.956974</td>\n",
       "      <td>PRAD</td>\n",
       "    </tr>\n",
       "    <tr>\n",
       "      <th>1</th>\n",
       "      <td>0.000000</td>\n",
       "      <td>5.696331</td>\n",
       "      <td>10.789949</td>\n",
       "      <td>2.438799</td>\n",
       "      <td>0.452595</td>\n",
       "      <td>9.458854</td>\n",
       "      <td>7.690829</td>\n",
       "      <td>7.050415</td>\n",
       "      <td>10.248272</td>\n",
       "      <td>3.352236</td>\n",
       "      <td>...</td>\n",
       "      <td>1.683023</td>\n",
       "      <td>0.452595</td>\n",
       "      <td>8.119496</td>\n",
       "      <td>4.755133</td>\n",
       "      <td>8.833175</td>\n",
       "      <td>0.00000</td>\n",
       "      <td>6.697802</td>\n",
       "      <td>8.904800</td>\n",
       "      <td>9.789561</td>\n",
       "      <td>PRAD</td>\n",
       "    </tr>\n",
       "    <tr>\n",
       "      <th>2</th>\n",
       "      <td>11.506258</td>\n",
       "      <td>1.267356</td>\n",
       "      <td>10.783334</td>\n",
       "      <td>2.175652</td>\n",
       "      <td>0.434882</td>\n",
       "      <td>10.896287</td>\n",
       "      <td>10.357684</td>\n",
       "      <td>5.690914</td>\n",
       "      <td>10.119797</td>\n",
       "      <td>4.775272</td>\n",
       "      <td>...</td>\n",
       "      <td>5.044958</td>\n",
       "      <td>0.000000</td>\n",
       "      <td>8.486915</td>\n",
       "      <td>4.080231</td>\n",
       "      <td>10.413078</td>\n",
       "      <td>0.00000</td>\n",
       "      <td>6.113686</td>\n",
       "      <td>0.434882</td>\n",
       "      <td>6.909977</td>\n",
       "      <td>PRAD</td>\n",
       "    </tr>\n",
       "    <tr>\n",
       "      <th>3</th>\n",
       "      <td>4.976602</td>\n",
       "      <td>4.809939</td>\n",
       "      <td>10.629038</td>\n",
       "      <td>4.183868</td>\n",
       "      <td>0.000000</td>\n",
       "      <td>9.942888</td>\n",
       "      <td>8.558907</td>\n",
       "      <td>6.345041</td>\n",
       "      <td>9.954172</td>\n",
       "      <td>3.749717</td>\n",
       "      <td>...</td>\n",
       "      <td>4.916338</td>\n",
       "      <td>1.194150</td>\n",
       "      <td>7.714953</td>\n",
       "      <td>5.179443</td>\n",
       "      <td>12.147065</td>\n",
       "      <td>1.19415</td>\n",
       "      <td>7.495663</td>\n",
       "      <td>0.894294</td>\n",
       "      <td>7.505923</td>\n",
       "      <td>PRAD</td>\n",
       "    </tr>\n",
       "    <tr>\n",
       "      <th>4</th>\n",
       "      <td>4.855342</td>\n",
       "      <td>6.849199</td>\n",
       "      <td>10.358344</td>\n",
       "      <td>3.315769</td>\n",
       "      <td>1.282855</td>\n",
       "      <td>10.535606</td>\n",
       "      <td>8.208849</td>\n",
       "      <td>4.602237</td>\n",
       "      <td>9.795803</td>\n",
       "      <td>2.897105</td>\n",
       "      <td>...</td>\n",
       "      <td>4.890622</td>\n",
       "      <td>0.000000</td>\n",
       "      <td>8.356518</td>\n",
       "      <td>4.227433</td>\n",
       "      <td>11.588968</td>\n",
       "      <td>1.65526</td>\n",
       "      <td>7.194442</td>\n",
       "      <td>3.720497</td>\n",
       "      <td>7.986400</td>\n",
       "      <td>PRAD</td>\n",
       "    </tr>\n",
       "  </tbody>\n",
       "</table>\n",
       "<p>5 rows × 11803 columns</p>\n",
       "</div>"
      ],
      "text/plain": [
       "   gene_3307  gene_19463  gene_9021  gene_10074  gene_5026  gene_5531  \\\n",
       "0  11.415758    6.713792   9.717445    5.462978   3.188164  10.220161   \n",
       "1   0.000000    5.696331  10.789949    2.438799   0.452595   9.458854   \n",
       "2  11.506258    1.267356  10.783334    2.175652   0.434882  10.896287   \n",
       "3   4.976602    4.809939  10.629038    4.183868   0.000000   9.942888   \n",
       "4   4.855342    6.849199  10.358344    3.315769   1.282855  10.535606   \n",
       "\n",
       "   gene_8125  gene_19136  gene_7545  gene_19284  ...  gene_10430  gene_16238  \\\n",
       "0   9.344651    7.224937  10.011297    2.015391  ...    5.267892    1.334282   \n",
       "1   7.690829    7.050415  10.248272    3.352236  ...    1.683023    0.452595   \n",
       "2  10.357684    5.690914  10.119797    4.775272  ...    5.044958    0.000000   \n",
       "3   8.558907    6.345041   9.954172    3.749717  ...    4.916338    1.194150   \n",
       "4   8.208849    4.602237   9.795803    2.897105  ...    4.890622    0.000000   \n",
       "\n",
       "   gene_2106  gene_11667   gene_541  gene_3277  gene_9750  gene_14795  \\\n",
       "0   8.364734    4.583411  12.289624    0.00000   6.685632    0.000000   \n",
       "1   8.119496    4.755133   8.833175    0.00000   6.697802    8.904800   \n",
       "2   8.486915    4.080231  10.413078    0.00000   6.113686    0.434882   \n",
       "3   7.714953    5.179443  12.147065    1.19415   7.495663    0.894294   \n",
       "4   8.356518    4.227433  11.588968    1.65526   7.194442    3.720497   \n",
       "\n",
       "   gene_12090  Class  \n",
       "0    6.956974   PRAD  \n",
       "1    9.789561   PRAD  \n",
       "2    6.909977   PRAD  \n",
       "3    7.505923   PRAD  \n",
       "4    7.986400   PRAD  \n",
       "\n",
       "[5 rows x 11803 columns]"
      ]
     },
     "execution_count": 3,
     "metadata": {},
     "output_type": "execute_result"
    }
   ],
   "source": [
    "#both_df = pd.merge(labels_df, data_df, on='Unnamed: 0', how='left')\n",
    "#both_df.rename(columns={'Unnamed: 0': 'id'}, inplace=True)\n",
    "#both_df.set_index('id', inplace=True)\n",
    "#both_df.head()\n",
    "both_df = pd.read_csv('data\\\\final_df.csv')\n",
    "both_df.head()"
   ]
  },
  {
   "cell_type": "code",
   "execution_count": 4,
   "metadata": {},
   "outputs": [
    {
     "name": "stderr",
     "output_type": "stream",
     "text": [
      "C:\\Users\\plok2502\\AppData\\Local\\Temp\\ipykernel_26288\\3124475173.py:2: SettingWithCopyWarning: \n",
      "A value is trying to be set on a copy of a slice from a DataFrame\n",
      "\n",
      "See the caveats in the documentation: https://pandas.pydata.org/pandas-docs/stable/user_guide/indexing.html#returning-a-view-versus-a-copy\n",
      "  brca_df.drop('Class', axis=1, inplace=True)\n"
     ]
    },
    {
     "data": {
      "text/plain": [
       "np.float64(193.967476128272)"
      ]
     },
     "execution_count": 4,
     "metadata": {},
     "output_type": "execute_result"
    }
   ],
   "source": [
    "brca_df = both_df[both_df['Class'] == 'BRCA']\n",
    "brca_df.drop('Class', axis=1, inplace=True)\n",
    "brca_center = brca_df.mean(axis=0)\n",
    "brca_center = brca_center.to_frame().T\n",
    "brca_center.rename(index={0: 'BRCA CENTER'}, inplace=True)\n",
    "brca_center.index.name = 'id'\n",
    "brca_df = pd.concat([brca_center, brca_df], axis=0)\n",
    "\n",
    "#Calculate max euclidean distance between BRCA center and all other samples\n",
    "brca_dist = brca_df.iloc[0].values - brca_df.iloc[1:].values\n",
    "brca_dist = np.linalg.norm(brca_dist, axis=1)\n",
    "intra_class_brca_dist = brca_dist.max()\n",
    "intra_class_brca_dist"
   ]
  },
  {
   "cell_type": "code",
   "execution_count": 5,
   "metadata": {},
   "outputs": [
    {
     "name": "stderr",
     "output_type": "stream",
     "text": [
      "C:\\Users\\plok2502\\AppData\\Local\\Temp\\ipykernel_26288\\1758355998.py:2: SettingWithCopyWarning: \n",
      "A value is trying to be set on a copy of a slice from a DataFrame\n",
      "\n",
      "See the caveats in the documentation: https://pandas.pydata.org/pandas-docs/stable/user_guide/indexing.html#returning-a-view-versus-a-copy\n",
      "  kirc_df.drop('Class', axis=1, inplace=True)\n"
     ]
    },
    {
     "data": {
      "text/plain": [
       "np.float64(201.0941046188547)"
      ]
     },
     "execution_count": 5,
     "metadata": {},
     "output_type": "execute_result"
    }
   ],
   "source": [
    "kirc_df = both_df[both_df['Class'] == 'KIRC']\n",
    "kirc_df.drop('Class', axis=1, inplace=True)\n",
    "kirc_center = kirc_df.mean(axis=0)\n",
    "kirc_center = kirc_center.to_frame().T\n",
    "kirc_center.rename(index={0: 'KIRC CENTER'}, inplace=True)\n",
    "kirc_center.index.name = 'id'\n",
    "kirc_df = pd.concat([kirc_center, kirc_df], axis=0)\n",
    "\n",
    "#Calculate max euclidean distance between KIRC center and all other samples\n",
    "kirc_dist = kirc_df.iloc[0].values - kirc_df.iloc[1:].values\n",
    "kirc_dist = np.linalg.norm(kirc_dist, axis=1)\n",
    "intra_class_kirc_dist = kirc_dist.max()\n",
    "intra_class_kirc_dist"
   ]
  },
  {
   "cell_type": "code",
   "execution_count": 6,
   "metadata": {},
   "outputs": [
    {
     "name": "stderr",
     "output_type": "stream",
     "text": [
      "C:\\Users\\plok2502\\AppData\\Local\\Temp\\ipykernel_26288\\3360149141.py:2: SettingWithCopyWarning: \n",
      "A value is trying to be set on a copy of a slice from a DataFrame\n",
      "\n",
      "See the caveats in the documentation: https://pandas.pydata.org/pandas-docs/stable/user_guide/indexing.html#returning-a-view-versus-a-copy\n",
      "  luad_df.drop('Class', axis=1, inplace=True)\n"
     ]
    },
    {
     "data": {
      "text/plain": [
       "np.float64(209.25583886472302)"
      ]
     },
     "execution_count": 6,
     "metadata": {},
     "output_type": "execute_result"
    }
   ],
   "source": [
    "luad_df = both_df[both_df['Class'] == 'LUAD']\n",
    "luad_df.drop('Class', axis=1, inplace=True)\n",
    "luad_center = luad_df.mean(axis=0)\n",
    "luad_center = luad_center.to_frame().T\n",
    "luad_center.rename(index={0: 'LUAD CENTER'}, inplace=True)\n",
    "luad_center.index.name = 'id'\n",
    "luad_df = pd.concat([luad_center, luad_df], axis=0)\n",
    "\n",
    "#Calculate max euclidean distance between LUAD center and all other samples\n",
    "luad_dist = luad_df.iloc[0].values - luad_df.iloc[1:].values\n",
    "luad_dist = np.linalg.norm(luad_dist, axis=1)\n",
    "intra_class_luad_dist = luad_dist.max()\n",
    "intra_class_luad_dist"
   ]
  },
  {
   "cell_type": "code",
   "execution_count": 7,
   "metadata": {},
   "outputs": [
    {
     "name": "stderr",
     "output_type": "stream",
     "text": [
      "C:\\Users\\plok2502\\AppData\\Local\\Temp\\ipykernel_26288\\668876941.py:2: SettingWithCopyWarning: \n",
      "A value is trying to be set on a copy of a slice from a DataFrame\n",
      "\n",
      "See the caveats in the documentation: https://pandas.pydata.org/pandas-docs/stable/user_guide/indexing.html#returning-a-view-versus-a-copy\n",
      "  prad_df.drop('Class', axis=1, inplace=True)\n"
     ]
    },
    {
     "data": {
      "text/plain": [
       "np.float64(177.72787308368373)"
      ]
     },
     "execution_count": 7,
     "metadata": {},
     "output_type": "execute_result"
    }
   ],
   "source": [
    "prad_df = both_df[both_df['Class'] == 'PRAD']\n",
    "prad_df.drop('Class', axis=1, inplace=True)\n",
    "prad_center = prad_df.mean(axis=0)\n",
    "prad_center = prad_center.to_frame().T\n",
    "prad_center.rename(index={0: 'PRAD CENTER'}, inplace=True)\n",
    "prad_center.index.name = 'id'\n",
    "prad_df = pd.concat([prad_center, prad_df], axis=0)\n",
    "\n",
    "#Calculate max euclidean distance between PRAD center and all other PRAD samples\n",
    "prad_dist = prad_df.iloc[0].values - prad_df.iloc[1:].values\n",
    "prad_dist = np.linalg.norm(prad_dist, axis=1)\n",
    "intra_class_prad_dist = prad_dist.max()\n",
    "intra_class_prad_dist"
   ]
  },
  {
   "cell_type": "code",
   "execution_count": 8,
   "metadata": {},
   "outputs": [
    {
     "name": "stderr",
     "output_type": "stream",
     "text": [
      "C:\\Users\\plok2502\\AppData\\Local\\Temp\\ipykernel_26288\\2284525377.py:2: SettingWithCopyWarning: \n",
      "A value is trying to be set on a copy of a slice from a DataFrame\n",
      "\n",
      "See the caveats in the documentation: https://pandas.pydata.org/pandas-docs/stable/user_guide/indexing.html#returning-a-view-versus-a-copy\n",
      "  coad_df.drop('Class', axis=1, inplace=True)\n"
     ]
    },
    {
     "data": {
      "text/plain": [
       "np.float64(180.5424512349839)"
      ]
     },
     "execution_count": 8,
     "metadata": {},
     "output_type": "execute_result"
    }
   ],
   "source": [
    "coad_df = both_df[both_df['Class'] == 'COAD']\n",
    "coad_df.drop('Class', axis=1, inplace=True)\n",
    "coad_center = coad_df.mean(axis=0)\n",
    "coad_center = coad_center.to_frame().T\n",
    "coad_center.rename(index={0: 'COAD CENTER'}, inplace=True)\n",
    "coad_center.index.name = 'id'\n",
    "coad_df = pd.concat([coad_center, coad_df], axis=0)\n",
    "\n",
    "#Calculate max euclidean distance between COAD center and all other samples\n",
    "coad_dist = coad_df.iloc[0].values - coad_df.iloc[1:].values\n",
    "coad_dist = np.linalg.norm(coad_dist, axis=1)\n",
    "intra_class_coad_dist = coad_dist.max()\n",
    "intra_class_coad_dist"
   ]
  },
  {
   "cell_type": "code",
   "execution_count": 9,
   "metadata": {},
   "outputs": [
    {
     "data": {
      "text/plain": [
       "np.float64(1.2134999385191385)"
      ]
     },
     "execution_count": 9,
     "metadata": {},
     "output_type": "execute_result"
    }
   ],
   "source": [
    "#Calculate the minimum euclidean distance between BRCA center and KIRC samples\n",
    "brca_dist = brca_df.iloc[0].values - kirc_df.iloc[1:].values\n",
    "brca_dist = np.linalg.norm(brca_dist, axis=1)\n",
    "brca_center_kirc = brca_dist.min()\n",
    "\n",
    "#Calculate the minimum euclidean distance between KIRC center and BRCA samples\n",
    "kirc_dist = kirc_df.iloc[0].values - brca_df.iloc[1:].values\n",
    "kirc_dist = np.linalg.norm(kirc_dist, axis=1)\n",
    "kirc_center_brca = kirc_dist.min()\n",
    "\n",
    "brca_kirc_inter_dist = min(brca_center_kirc, kirc_center_brca)\n",
    "\n",
    "#Calculate the overlap between BRCA and KIRC\n",
    "(intra_class_brca_dist + intra_class_kirc_dist)/(2*brca_kirc_inter_dist)"
   ]
  },
  {
   "cell_type": "code",
   "execution_count": 10,
   "metadata": {},
   "outputs": [
    {
     "data": {
      "text/plain": [
       "np.float64(1.6085544775741403)"
      ]
     },
     "execution_count": 10,
     "metadata": {},
     "output_type": "execute_result"
    }
   ],
   "source": [
    "#Calculate the minimum euclidean distance between BRCA center and LUAD samples\n",
    "brca_dist = brca_df.iloc[0].values - luad_df.iloc[1:].values\n",
    "brca_dist = np.linalg.norm(brca_dist, axis=1)\n",
    "brca_center_luad = brca_dist.min()\n",
    "\n",
    "#Calculate the minimum euclidean distance between LUAD center and BRCA samples\n",
    "luad_dist = luad_df.iloc[0].values - brca_df.iloc[1:].values\n",
    "luad_dist = np.linalg.norm(luad_dist, axis=1)\n",
    "luad_center_brca = luad_dist.min()\n",
    "\n",
    "brca_luad_inter_dist = min(brca_center_luad, luad_center_brca)\n",
    "\n",
    "#Calculate the overlap between BRCA and LUAD\n",
    "(intra_class_brca_dist + intra_class_luad_dist)/(2*brca_luad_inter_dist)"
   ]
  },
  {
   "cell_type": "code",
   "execution_count": 11,
   "metadata": {},
   "outputs": [
    {
     "data": {
      "text/plain": [
       "np.float64(1.413905555027607)"
      ]
     },
     "execution_count": 11,
     "metadata": {},
     "output_type": "execute_result"
    }
   ],
   "source": [
    "#Calculate the minimum euclidean distance between BRCA center and PRAD samples\n",
    "brca_dist = brca_df.iloc[0].values - prad_df.iloc[1:].values\n",
    "brca_dist = np.linalg.norm(brca_dist, axis=1)\n",
    "brca_center_prad = brca_dist.min()\n",
    "\n",
    "#Calculate the minimum euclidean distance between PRAD center and BRCA samples\n",
    "prad_dist = prad_df.iloc[0].values - brca_df.iloc[1:].values\n",
    "prad_dist = np.linalg.norm(prad_dist, axis=1)\n",
    "prad_center_brca = prad_dist.min()\n",
    "\n",
    "prad_brca_inter_dist = min(prad_center_brca, brca_center_prad)\n",
    "\n",
    "#Calculate the overlap between PRAD and BRCA\n",
    "(intra_class_prad_dist + intra_class_brca_dist)/(2*prad_brca_inter_dist)"
   ]
  },
  {
   "cell_type": "code",
   "execution_count": 12,
   "metadata": {},
   "outputs": [
    {
     "data": {
      "text/plain": [
       "np.float64(1.2759245832873352)"
      ]
     },
     "execution_count": 12,
     "metadata": {},
     "output_type": "execute_result"
    }
   ],
   "source": [
    "#Calculate the minimum euclidean distance between BRCA center and COAD samples\n",
    "brca_dist = brca_df.iloc[0].values - coad_df.iloc[1:].values\n",
    "brca_dist = np.linalg.norm(brca_dist, axis=1)\n",
    "brca_center_coad = brca_dist.min()\n",
    "\n",
    "#Calculate the minimum euclidean distance between COAD center and BRCA samples\n",
    "coad_dist = coad_df.iloc[0].values - brca_df.iloc[1:].values\n",
    "coad_dist = np.linalg.norm(coad_dist, axis=1)\n",
    "coad_center_brca = coad_dist.min()\n",
    "\n",
    "coad_brca_inter_dist = min(coad_center_brca, brca_center_coad)\n",
    "\n",
    "#Calculate the overlap between COAD and BRCA\n",
    "(intra_class_coad_dist + intra_class_brca_dist)/(2*coad_brca_inter_dist)"
   ]
  },
  {
   "cell_type": "code",
   "execution_count": 13,
   "metadata": {},
   "outputs": [
    {
     "data": {
      "text/plain": [
       "np.float64(1.3606991489802753)"
      ]
     },
     "execution_count": 13,
     "metadata": {},
     "output_type": "execute_result"
    }
   ],
   "source": [
    "#Calculate the minimum euclidean distance between KIRC center and LUAD samples\n",
    "kirc_dist = kirc_df.iloc[0].values - luad_df.iloc[1:].values\n",
    "kirc_dist = np.linalg.norm(kirc_dist, axis=1)\n",
    "kirc_center_luad = kirc_dist.min()\n",
    "\n",
    "#Calculate the minimum euclidean distance between LUAD center and KIRC samples\n",
    "luad_dist = luad_df.iloc[0].values - kirc_df.iloc[1:].values\n",
    "luad_dist = np.linalg.norm(luad_dist, axis=1)\n",
    "luad_center_kirc = luad_dist.min()\n",
    "\n",
    "kirc_luad_inter_dist = min(kirc_center_luad, luad_center_kirc)\n",
    "\n",
    "#Calculate the overlap between KIRC and LUAD\n",
    "(intra_class_kirc_dist + intra_class_luad_dist)/(2*kirc_luad_inter_dist)"
   ]
  },
  {
   "cell_type": "code",
   "execution_count": 14,
   "metadata": {},
   "outputs": [
    {
     "data": {
      "text/plain": [
       "np.float64(1.0711236663130306)"
      ]
     },
     "execution_count": 14,
     "metadata": {},
     "output_type": "execute_result"
    }
   ],
   "source": [
    "#Calculate the minimum euclidean distance between KIRC center and PRAD samples\n",
    "kirc_dist = kirc_df.iloc[0].values - prad_df.iloc[1:].values\n",
    "kirc_dist = np.linalg.norm(kirc_dist, axis=1)\n",
    "kirc_center_prad = kirc_dist.min()\n",
    "\n",
    "#Calculate the minimum euclidean distance between PRAD center and KIRC samples\n",
    "prad_dist = prad_df.iloc[0].values - kirc_df.iloc[1:].values\n",
    "prad_dist = np.linalg.norm(prad_dist, axis=1)\n",
    "prad_center_kirc = prad_dist.min()\n",
    "\n",
    "kirc_prad_inter_dist = min(kirc_center_prad, prad_center_kirc)\n",
    "\n",
    "#Calculate the overlap between KIRC and PRAD\n",
    "(intra_class_kirc_dist + intra_class_prad_dist)/(2*kirc_prad_inter_dist)"
   ]
  },
  {
   "cell_type": "code",
   "execution_count": 15,
   "metadata": {},
   "outputs": [
    {
     "data": {
      "text/plain": [
       "np.float64(1.1513190303256555)"
      ]
     },
     "execution_count": 15,
     "metadata": {},
     "output_type": "execute_result"
    }
   ],
   "source": [
    "#Calculate the minimum euclidean distance between KIRC center and COAD samples\n",
    "kirc_dist = kirc_df.iloc[0].values - coad_df.iloc[1:].values\n",
    "kirc_dist = np.linalg.norm(kirc_dist, axis=1)\n",
    "kirc_center_coad = kirc_dist.min()\n",
    "\n",
    "#Calculate the minimum euclidean distance between COAD center and KIRC samples\n",
    "coad_dist = coad_df.iloc[0].values - kirc_df.iloc[1:].values\n",
    "coad_dist = np.linalg.norm(coad_dist, axis=1)\n",
    "coad_center_kirc = coad_dist.min()\n",
    "\n",
    "kirc_coad_inter_dist = min(kirc_center_coad, coad_center_kirc)\n",
    "\n",
    "#Calculate the overlap between KIRC and COAD\n",
    "(intra_class_kirc_dist + intra_class_coad_dist)/(2*kirc_coad_inter_dist)"
   ]
  },
  {
   "cell_type": "code",
   "execution_count": 16,
   "metadata": {},
   "outputs": [
    {
     "data": {
      "text/plain": [
       "np.float64(1.3580123674721611)"
      ]
     },
     "execution_count": 16,
     "metadata": {},
     "output_type": "execute_result"
    }
   ],
   "source": [
    "#Calculate the minimum euclidean distance between LUAD center and PRAD samples\n",
    "luad_dist = luad_df.iloc[0].values - prad_df.iloc[1:].values\n",
    "luad_dist = np.linalg.norm(luad_dist, axis=1)\n",
    "luad_center_prad = luad_dist.min()\n",
    "\n",
    "#Calculate the minimum euclidean distance between PRAD center and LUAD samples\n",
    "prad_dist = prad_df.iloc[0].values - luad_df.iloc[1:].values\n",
    "prad_dist = np.linalg.norm(prad_dist, axis=1)\n",
    "prad_center_luad = prad_dist.min()\n",
    "\n",
    "luad_prad_inter_dist = min(luad_center_prad, prad_center_luad)\n",
    "\n",
    "#Calculate the overlap between LUAD and PRAD\n",
    "(intra_class_luad_dist + intra_class_prad_dist)/(2*luad_prad_inter_dist)"
   ]
  },
  {
   "cell_type": "code",
   "execution_count": 17,
   "metadata": {},
   "outputs": [
    {
     "data": {
      "text/plain": [
       "np.float64(1.4473171098209474)"
      ]
     },
     "execution_count": 17,
     "metadata": {},
     "output_type": "execute_result"
    }
   ],
   "source": [
    "#Calculate the minimum euclidean distance between LUAD center and COAD samples\n",
    "luad_dist = luad_df.iloc[0].values - coad_df.iloc[1:].values\n",
    "luad_dist = np.linalg.norm(luad_dist, axis=1)\n",
    "luad_center_coad = luad_dist.min()\n",
    "\n",
    "#Calculate the minimum euclidean distance between COAD center and LUAD samples\n",
    "coad_dist = coad_df.iloc[0].values - luad_df.iloc[1:].values\n",
    "coad_dist = np.linalg.norm(coad_dist, axis=1)\n",
    "coad_center_luad = coad_dist.min()\n",
    "\n",
    "luad_coad_inter_dist = min(luad_center_coad, coad_center_luad)\n",
    "\n",
    "#Calculate the overlap between LUAD and COAD\n",
    "(intra_class_luad_dist + intra_class_coad_dist)/(2*luad_coad_inter_dist)"
   ]
  },
  {
   "cell_type": "code",
   "execution_count": 18,
   "metadata": {},
   "outputs": [
    {
     "data": {
      "text/plain": [
       "np.float64(1.0839688569651955)"
      ]
     },
     "execution_count": 18,
     "metadata": {},
     "output_type": "execute_result"
    }
   ],
   "source": [
    "#Calculate the minimum euclidean distance between PRAD center and COAD samples\n",
    "prad_dist = prad_df.iloc[0].values - coad_df.iloc[1:].values\n",
    "prad_dist = np.linalg.norm(prad_dist, axis=1)\n",
    "prad_center_coad = prad_dist.min()\n",
    "\n",
    "#Calculate the minimum euclidean distance between COAD center and PRAD samples\n",
    "coad_dist = coad_df.iloc[0].values - prad_df.iloc[1:].values\n",
    "coad_dist = np.linalg.norm(coad_dist, axis=1)\n",
    "coad_center_prad = coad_dist.min()\n",
    "\n",
    "prad_coad_inter_dist = min(prad_center_coad, coad_center_prad)\n",
    "\n",
    "#Calculate the overlap between PRAD and COAD\n",
    "(intra_class_prad_dist + intra_class_coad_dist)/(2*prad_coad_inter_dist)"
   ]
  },
  {
   "cell_type": "code",
   "execution_count": 19,
   "metadata": {},
   "outputs": [
    {
     "name": "stdout",
     "output_type": "stream",
     "text": [
      "BRCA - KIRC: 162.77775062322183\n",
      "BRCA - LUAD: 125.33716470737622\n",
      "BRCA - PRAD: 131.4427784409894\n",
      "BRCA - COAD: 146.7602130520739\n",
      "KIRC - LUAD: 150.78643350041742\n",
      "KIRC - PRAD: 176.83391265478284\n",
      "KIRC - COAD: 165.73883771637605\n",
      "LUAD - PRAD: 142.4816596732282\n",
      "LUAD - COAD: 134.6623650942433\n",
      "PRAD - COAD: 165.25858746612087\n"
     ]
    }
   ],
   "source": [
    "# print all the interclass distances\n",
    "print('BRCA - KIRC:', brca_kirc_inter_dist)\n",
    "print('BRCA - LUAD:', brca_luad_inter_dist)\n",
    "print('BRCA - PRAD:', prad_brca_inter_dist)\n",
    "print('BRCA - COAD:', coad_brca_inter_dist)\n",
    "print('KIRC - LUAD:', kirc_luad_inter_dist)\n",
    "print('KIRC - PRAD:', kirc_prad_inter_dist)\n",
    "print('KIRC - COAD:', kirc_coad_inter_dist)\n",
    "print('LUAD - PRAD:', luad_prad_inter_dist)\n",
    "print('LUAD - COAD:', luad_coad_inter_dist)\n",
    "print('PRAD - COAD:', prad_coad_inter_dist)\n"
   ]
  },
  {
   "cell_type": "markdown",
   "metadata": {},
   "source": [
    "Avec la distance euclidienne, on obtient les résultats suivants:\n",
    "```\n",
    "Le overlap entre toutes les classes est > à 1. On ne peut pas dire que les classes sont bien séparées."
   ]
  }
 ],
 "metadata": {
  "kernelspec": {
   "display_name": "Python 3",
   "language": "python",
   "name": "python3"
  },
  "language_info": {
   "codemirror_mode": {
    "name": "ipython",
    "version": 3
   },
   "file_extension": ".py",
   "mimetype": "text/x-python",
   "name": "python",
   "nbconvert_exporter": "python",
   "pygments_lexer": "ipython3",
   "version": "3.10.11"
  },
  "orig_nbformat": 4
 },
 "nbformat": 4,
 "nbformat_minor": 2
}
