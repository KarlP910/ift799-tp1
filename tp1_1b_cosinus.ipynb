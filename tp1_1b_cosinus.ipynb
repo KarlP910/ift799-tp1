{
 "cells": [
  {
   "cell_type": "markdown",
   "metadata": {},
   "source": [
    "Voici les CIP des membres de l'équipe\n",
    "\n",
    "- Karl Plourde - PLOK2502"
   ]
  },
  {
   "cell_type": "code",
   "execution_count": 2,
   "metadata": {},
   "outputs": [],
   "source": [
    "import pandas as pd\n",
    "import numpy as np\n",
    "from sklearn.metrics.pairwise import cosine_similarity"
   ]
  },
  {
   "cell_type": "code",
   "execution_count": 3,
   "metadata": {},
   "outputs": [],
   "source": [
    "data_df = pd.read_csv('data/data.csv')\n",
    "labels_df = pd.read_csv('data/labels.csv')"
   ]
  },
  {
   "cell_type": "code",
   "execution_count": 4,
   "metadata": {},
   "outputs": [
    {
     "data": {
      "text/html": [
       "<div>\n",
       "<style scoped>\n",
       "    .dataframe tbody tr th:only-of-type {\n",
       "        vertical-align: middle;\n",
       "    }\n",
       "\n",
       "    .dataframe tbody tr th {\n",
       "        vertical-align: top;\n",
       "    }\n",
       "\n",
       "    .dataframe thead th {\n",
       "        text-align: right;\n",
       "    }\n",
       "</style>\n",
       "<table border=\"1\" class=\"dataframe\">\n",
       "  <thead>\n",
       "    <tr style=\"text-align: right;\">\n",
       "      <th></th>\n",
       "      <th>Class</th>\n",
       "      <th>gene_0</th>\n",
       "      <th>gene_1</th>\n",
       "      <th>gene_2</th>\n",
       "      <th>gene_3</th>\n",
       "      <th>gene_4</th>\n",
       "      <th>gene_5</th>\n",
       "      <th>gene_6</th>\n",
       "      <th>gene_7</th>\n",
       "      <th>gene_8</th>\n",
       "      <th>...</th>\n",
       "      <th>gene_20521</th>\n",
       "      <th>gene_20522</th>\n",
       "      <th>gene_20523</th>\n",
       "      <th>gene_20524</th>\n",
       "      <th>gene_20525</th>\n",
       "      <th>gene_20526</th>\n",
       "      <th>gene_20527</th>\n",
       "      <th>gene_20528</th>\n",
       "      <th>gene_20529</th>\n",
       "      <th>gene_20530</th>\n",
       "    </tr>\n",
       "    <tr>\n",
       "      <th>id</th>\n",
       "      <th></th>\n",
       "      <th></th>\n",
       "      <th></th>\n",
       "      <th></th>\n",
       "      <th></th>\n",
       "      <th></th>\n",
       "      <th></th>\n",
       "      <th></th>\n",
       "      <th></th>\n",
       "      <th></th>\n",
       "      <th></th>\n",
       "      <th></th>\n",
       "      <th></th>\n",
       "      <th></th>\n",
       "      <th></th>\n",
       "      <th></th>\n",
       "      <th></th>\n",
       "      <th></th>\n",
       "      <th></th>\n",
       "      <th></th>\n",
       "      <th></th>\n",
       "    </tr>\n",
       "  </thead>\n",
       "  <tbody>\n",
       "    <tr>\n",
       "      <th>sample_0</th>\n",
       "      <td>PRAD</td>\n",
       "      <td>0.0</td>\n",
       "      <td>2.017209</td>\n",
       "      <td>3.265527</td>\n",
       "      <td>5.478487</td>\n",
       "      <td>10.431999</td>\n",
       "      <td>0.0</td>\n",
       "      <td>7.175175</td>\n",
       "      <td>0.591871</td>\n",
       "      <td>0.0</td>\n",
       "      <td>...</td>\n",
       "      <td>4.926711</td>\n",
       "      <td>8.210257</td>\n",
       "      <td>9.723516</td>\n",
       "      <td>7.220030</td>\n",
       "      <td>9.119813</td>\n",
       "      <td>12.003135</td>\n",
       "      <td>9.650743</td>\n",
       "      <td>8.921326</td>\n",
       "      <td>5.286759</td>\n",
       "      <td>0.0</td>\n",
       "    </tr>\n",
       "    <tr>\n",
       "      <th>sample_1</th>\n",
       "      <td>LUAD</td>\n",
       "      <td>0.0</td>\n",
       "      <td>0.592732</td>\n",
       "      <td>1.588421</td>\n",
       "      <td>7.586157</td>\n",
       "      <td>9.623011</td>\n",
       "      <td>0.0</td>\n",
       "      <td>6.816049</td>\n",
       "      <td>0.000000</td>\n",
       "      <td>0.0</td>\n",
       "      <td>...</td>\n",
       "      <td>4.593372</td>\n",
       "      <td>7.323865</td>\n",
       "      <td>9.740931</td>\n",
       "      <td>6.256586</td>\n",
       "      <td>8.381612</td>\n",
       "      <td>12.674552</td>\n",
       "      <td>10.517059</td>\n",
       "      <td>9.397854</td>\n",
       "      <td>2.094168</td>\n",
       "      <td>0.0</td>\n",
       "    </tr>\n",
       "    <tr>\n",
       "      <th>sample_2</th>\n",
       "      <td>PRAD</td>\n",
       "      <td>0.0</td>\n",
       "      <td>3.511759</td>\n",
       "      <td>4.327199</td>\n",
       "      <td>6.881787</td>\n",
       "      <td>9.870730</td>\n",
       "      <td>0.0</td>\n",
       "      <td>6.972130</td>\n",
       "      <td>0.452595</td>\n",
       "      <td>0.0</td>\n",
       "      <td>...</td>\n",
       "      <td>5.125213</td>\n",
       "      <td>8.127123</td>\n",
       "      <td>10.908640</td>\n",
       "      <td>5.401607</td>\n",
       "      <td>9.911597</td>\n",
       "      <td>9.045255</td>\n",
       "      <td>9.788359</td>\n",
       "      <td>10.090470</td>\n",
       "      <td>1.683023</td>\n",
       "      <td>0.0</td>\n",
       "    </tr>\n",
       "    <tr>\n",
       "      <th>sample_3</th>\n",
       "      <td>PRAD</td>\n",
       "      <td>0.0</td>\n",
       "      <td>3.663618</td>\n",
       "      <td>4.507649</td>\n",
       "      <td>6.659068</td>\n",
       "      <td>10.196184</td>\n",
       "      <td>0.0</td>\n",
       "      <td>7.843375</td>\n",
       "      <td>0.434882</td>\n",
       "      <td>0.0</td>\n",
       "      <td>...</td>\n",
       "      <td>6.076566</td>\n",
       "      <td>8.792959</td>\n",
       "      <td>10.141520</td>\n",
       "      <td>8.942805</td>\n",
       "      <td>9.601208</td>\n",
       "      <td>11.392682</td>\n",
       "      <td>9.694814</td>\n",
       "      <td>9.684365</td>\n",
       "      <td>3.292001</td>\n",
       "      <td>0.0</td>\n",
       "    </tr>\n",
       "    <tr>\n",
       "      <th>sample_4</th>\n",
       "      <td>BRCA</td>\n",
       "      <td>0.0</td>\n",
       "      <td>2.655741</td>\n",
       "      <td>2.821547</td>\n",
       "      <td>6.539454</td>\n",
       "      <td>9.738265</td>\n",
       "      <td>0.0</td>\n",
       "      <td>6.566967</td>\n",
       "      <td>0.360982</td>\n",
       "      <td>0.0</td>\n",
       "      <td>...</td>\n",
       "      <td>5.996032</td>\n",
       "      <td>8.891425</td>\n",
       "      <td>10.373790</td>\n",
       "      <td>7.181162</td>\n",
       "      <td>9.846910</td>\n",
       "      <td>11.922439</td>\n",
       "      <td>9.217749</td>\n",
       "      <td>9.461191</td>\n",
       "      <td>5.110372</td>\n",
       "      <td>0.0</td>\n",
       "    </tr>\n",
       "  </tbody>\n",
       "</table>\n",
       "<p>5 rows × 20532 columns</p>\n",
       "</div>"
      ],
      "text/plain": [
       "         Class  gene_0    gene_1    gene_2    gene_3     gene_4  gene_5  \\\n",
       "id                                                                        \n",
       "sample_0  PRAD     0.0  2.017209  3.265527  5.478487  10.431999     0.0   \n",
       "sample_1  LUAD     0.0  0.592732  1.588421  7.586157   9.623011     0.0   \n",
       "sample_2  PRAD     0.0  3.511759  4.327199  6.881787   9.870730     0.0   \n",
       "sample_3  PRAD     0.0  3.663618  4.507649  6.659068  10.196184     0.0   \n",
       "sample_4  BRCA     0.0  2.655741  2.821547  6.539454   9.738265     0.0   \n",
       "\n",
       "            gene_6    gene_7  gene_8  ...  gene_20521  gene_20522  gene_20523  \\\n",
       "id                                    ...                                       \n",
       "sample_0  7.175175  0.591871     0.0  ...    4.926711    8.210257    9.723516   \n",
       "sample_1  6.816049  0.000000     0.0  ...    4.593372    7.323865    9.740931   \n",
       "sample_2  6.972130  0.452595     0.0  ...    5.125213    8.127123   10.908640   \n",
       "sample_3  7.843375  0.434882     0.0  ...    6.076566    8.792959   10.141520   \n",
       "sample_4  6.566967  0.360982     0.0  ...    5.996032    8.891425   10.373790   \n",
       "\n",
       "          gene_20524  gene_20525  gene_20526  gene_20527  gene_20528  \\\n",
       "id                                                                     \n",
       "sample_0    7.220030    9.119813   12.003135    9.650743    8.921326   \n",
       "sample_1    6.256586    8.381612   12.674552   10.517059    9.397854   \n",
       "sample_2    5.401607    9.911597    9.045255    9.788359   10.090470   \n",
       "sample_3    8.942805    9.601208   11.392682    9.694814    9.684365   \n",
       "sample_4    7.181162    9.846910   11.922439    9.217749    9.461191   \n",
       "\n",
       "          gene_20529  gene_20530  \n",
       "id                                \n",
       "sample_0    5.286759         0.0  \n",
       "sample_1    2.094168         0.0  \n",
       "sample_2    1.683023         0.0  \n",
       "sample_3    3.292001         0.0  \n",
       "sample_4    5.110372         0.0  \n",
       "\n",
       "[5 rows x 20532 columns]"
      ]
     },
     "execution_count": 4,
     "metadata": {},
     "output_type": "execute_result"
    }
   ],
   "source": [
    "both_df = pd.merge(labels_df, data_df, on='Unnamed: 0', how='left')\n",
    "both_df.rename(columns={'Unnamed: 0': 'id'}, inplace=True)\n",
    "both_df.set_index('id', inplace=True)\n",
    "both_df.head()"
   ]
  },
  {
   "cell_type": "code",
   "execution_count": 5,
   "metadata": {},
   "outputs": [
    {
     "name": "stderr",
     "output_type": "stream",
     "text": [
      "C:\\Users\\plok2502\\AppData\\Local\\Temp\\ipykernel_9540\\2811685454.py:3: SettingWithCopyWarning: \n",
      "A value is trying to be set on a copy of a slice from a DataFrame\n",
      "\n",
      "See the caveats in the documentation: https://pandas.pydata.org/pandas-docs/stable/user_guide/indexing.html#returning-a-view-versus-a-copy\n",
      "  brca_df.drop('Class', axis=1, inplace=True)\n"
     ]
    },
    {
     "data": {
      "text/plain": [
       "np.float64(0.028872677269702773)"
      ]
     },
     "execution_count": 5,
     "metadata": {},
     "output_type": "execute_result"
    }
   ],
   "source": [
    "#BRCA intraclass distance\n",
    "brca_df = both_df[both_df['Class'] == 'BRCA']\n",
    "brca_df.drop('Class', axis=1, inplace=True)\n",
    "brca_center = brca_df.mean(axis=0)\n",
    "brca_center = brca_center.to_frame().T\n",
    "brca_center.rename(index={0: 'BRCA CENTER'}, inplace=True)\n",
    "brca_df = pd.concat([brca_center, brca_df], axis=0)\n",
    "\n",
    "norm_brca_df = (brca_df.T / np.linalg.norm(brca_df, axis=1)).T\n",
    "brca_cos_similarities = cosine_similarity(norm_brca_df.iloc[0:1], norm_brca_df.iloc[1:])\n",
    "brca_cos_distances = 1 - brca_cos_similarities[0]\n",
    "brca_intra_class_dist = np.max(brca_cos_distances[1:])\n",
    "\n",
    "brca_intra_class_dist"
   ]
  },
  {
   "cell_type": "code",
   "execution_count": 6,
   "metadata": {},
   "outputs": [
    {
     "name": "stderr",
     "output_type": "stream",
     "text": [
      "C:\\Users\\plok2502\\AppData\\Local\\Temp\\ipykernel_9540\\559167690.py:3: SettingWithCopyWarning: \n",
      "A value is trying to be set on a copy of a slice from a DataFrame\n",
      "\n",
      "See the caveats in the documentation: https://pandas.pydata.org/pandas-docs/stable/user_guide/indexing.html#returning-a-view-versus-a-copy\n",
      "  kirc_df.drop('Class', axis=1, inplace=True)\n"
     ]
    },
    {
     "data": {
      "text/plain": [
       "np.float64(0.030071883635564345)"
      ]
     },
     "execution_count": 6,
     "metadata": {},
     "output_type": "execute_result"
    }
   ],
   "source": [
    "#KIRC intraclass distance\n",
    "kirc_df = both_df[both_df['Class'] == 'KIRC']\n",
    "kirc_df.drop('Class', axis=1, inplace=True)\n",
    "kirc_center = kirc_df.mean(axis=0)\n",
    "kirc_center = kirc_center.to_frame().T\n",
    "kirc_center.rename(index={0: 'KIRC CENTER'}, inplace=True)\n",
    "kirc_df = pd.concat([kirc_center, kirc_df], axis=0)\n",
    "\n",
    "norm_kirc_df = (kirc_df.T / np.linalg.norm(kirc_df, axis=1)).T\n",
    "kirc_cos_similarities = cosine_similarity(norm_kirc_df.iloc[0:1], norm_kirc_df.iloc[1:])\n",
    "kirc_cos_distances = 1 - kirc_cos_similarities[0]\n",
    "kirc_intra_class_dist = np.max(kirc_cos_distances[1:])\n",
    "kirc_intra_class_dist"
   ]
  },
  {
   "cell_type": "code",
   "execution_count": 7,
   "metadata": {},
   "outputs": [
    {
     "name": "stderr",
     "output_type": "stream",
     "text": [
      "C:\\Users\\plok2502\\AppData\\Local\\Temp\\ipykernel_9540\\3839066893.py:3: SettingWithCopyWarning: \n",
      "A value is trying to be set on a copy of a slice from a DataFrame\n",
      "\n",
      "See the caveats in the documentation: https://pandas.pydata.org/pandas-docs/stable/user_guide/indexing.html#returning-a-view-versus-a-copy\n",
      "  luad_df.drop('Class', axis=1, inplace=True)\n"
     ]
    },
    {
     "data": {
      "text/plain": [
       "np.float64(0.02866546561023675)"
      ]
     },
     "execution_count": 7,
     "metadata": {},
     "output_type": "execute_result"
    }
   ],
   "source": [
    "#LUAD intraclass distance\n",
    "luad_df = both_df[both_df['Class'] == 'LUAD']\n",
    "luad_df.drop('Class', axis=1, inplace=True)\n",
    "luad_center = luad_df.mean(axis=0)\n",
    "luad_center = luad_center.to_frame().T\n",
    "luad_center.rename(index={0: 'LUAD CENTER'}, inplace=True)\n",
    "luad_df = pd.concat([luad_center, luad_df], axis=0)\n",
    "\n",
    "norm_luad_df = (luad_df.T / np.linalg.norm(luad_df, axis=1)).T\n",
    "luad_cos_similarities = cosine_similarity(norm_luad_df.iloc[0:1], norm_luad_df.iloc[1:])\n",
    "luad_cos_distances = 1 - luad_cos_similarities[0]\n",
    "luad_intra_class_dist = np.max(luad_cos_distances[1:])\n",
    "luad_intra_class_dist"
   ]
  },
  {
   "cell_type": "code",
   "execution_count": 8,
   "metadata": {},
   "outputs": [
    {
     "name": "stderr",
     "output_type": "stream",
     "text": [
      "C:\\Users\\plok2502\\AppData\\Local\\Temp\\ipykernel_9540\\1380435723.py:3: SettingWithCopyWarning: \n",
      "A value is trying to be set on a copy of a slice from a DataFrame\n",
      "\n",
      "See the caveats in the documentation: https://pandas.pydata.org/pandas-docs/stable/user_guide/indexing.html#returning-a-view-versus-a-copy\n",
      "  prad_df.drop('Class', axis=1, inplace=True)\n"
     ]
    },
    {
     "data": {
      "text/plain": [
       "np.float64(0.024668997188254216)"
      ]
     },
     "execution_count": 8,
     "metadata": {},
     "output_type": "execute_result"
    }
   ],
   "source": [
    "#PRAD intraclass distance\n",
    "prad_df = both_df[both_df['Class'] == 'PRAD']\n",
    "prad_df.drop('Class', axis=1, inplace=True)\n",
    "prad_center = prad_df.mean(axis=0)\n",
    "prad_center = prad_center.to_frame().T\n",
    "prad_center.rename(index={0: 'PRAD CENTER'}, inplace=True)\n",
    "prad_df = pd.concat([prad_center, prad_df], axis=0)\n",
    "\n",
    "norm_prad_df = (prad_df.T / np.linalg.norm(prad_df, axis=1)).T\n",
    "prad_cos_similarities = cosine_similarity(norm_prad_df.iloc[0:1], norm_prad_df.iloc[1:])\n",
    "prad_cos_distances = 1 - prad_cos_similarities[0]\n",
    "prad_intra_class_dist = np.max(prad_cos_distances[1:])\n",
    "prad_intra_class_dist"
   ]
  },
  {
   "cell_type": "code",
   "execution_count": 9,
   "metadata": {},
   "outputs": [
    {
     "name": "stderr",
     "output_type": "stream",
     "text": [
      "C:\\Users\\plok2502\\AppData\\Local\\Temp\\ipykernel_9540\\612759739.py:3: SettingWithCopyWarning: \n",
      "A value is trying to be set on a copy of a slice from a DataFrame\n",
      "\n",
      "See the caveats in the documentation: https://pandas.pydata.org/pandas-docs/stable/user_guide/indexing.html#returning-a-view-versus-a-copy\n",
      "  coad_df.drop('Class', axis=1, inplace=True)\n"
     ]
    },
    {
     "data": {
      "text/plain": [
       "np.float64(0.024442800387652563)"
      ]
     },
     "execution_count": 9,
     "metadata": {},
     "output_type": "execute_result"
    }
   ],
   "source": [
    "#COAD intraclass distance\n",
    "coad_df = both_df[both_df['Class'] == 'COAD']\n",
    "coad_df.drop('Class', axis=1, inplace=True)\n",
    "coad_center = coad_df.mean(axis=0)\n",
    "coad_center = coad_center.to_frame().T\n",
    "coad_center.rename(index={0: 'COAD CENTER'}, inplace=True)\n",
    "coad_df = pd.concat([coad_center, coad_df], axis=0)\n",
    "\n",
    "norm_coad_df = (coad_df.T / np.linalg.norm(coad_df, axis=1)).T\n",
    "coad_cos_similarities = cosine_similarity(norm_coad_df.iloc[0:1], norm_coad_df.iloc[1:])\n",
    "coad_cos_distances = 1 - coad_cos_similarities[0]\n",
    "coad_intra_class_dist = np.max(coad_cos_distances[1:])\n",
    "coad_intra_class_dist"
   ]
  },
  {
   "cell_type": "code",
   "execution_count": 10,
   "metadata": {},
   "outputs": [
    {
     "data": {
      "text/plain": [
       "np.float64(1.546278043097319)"
      ]
     },
     "execution_count": 10,
     "metadata": {},
     "output_type": "execute_result"
    }
   ],
   "source": [
    "#BRCA - KIRC interclass distance\n",
    "\n",
    "# Compute cosine distances between BRCA center and KIRC samples\n",
    "brca_to_kirc_cos_similarities = cosine_similarity(norm_brca_df.iloc[0:1], norm_kirc_df.iloc[1:])\n",
    "brca_to_kirc_cos_distances = 1 - brca_to_kirc_cos_similarities[0]\n",
    "min_distance_brca_to_kirc = np.min(brca_to_kirc_cos_distances)\n",
    "\n",
    "# Compute cosine distances between KIRC center and BRCA samples\n",
    "kirc_to_brca_cos_similarities = cosine_similarity(norm_kirc_df.iloc[0:1], norm_brca_df.iloc[1:])\n",
    "kirc_to_brca_cos_distances = 1 - kirc_to_brca_cos_similarities[0]\n",
    "min_distance_kirc_to_brca = np.min(kirc_to_brca_cos_distances)\n",
    "\n",
    "#Calculate the overlap between BRCA and KIRC\n",
    "brca_kirc_inter_dist = (min(min_distance_brca_to_kirc, min_distance_kirc_to_brca))\n",
    "\n",
    "(brca_intra_class_dist + kirc_intra_class_dist)/(2*brca_kirc_inter_dist)"
   ]
  },
  {
   "cell_type": "code",
   "execution_count": 11,
   "metadata": {},
   "outputs": [
    {
     "data": {
      "text/plain": [
       "np.float64(2.5369623171655786)"
      ]
     },
     "execution_count": 11,
     "metadata": {},
     "output_type": "execute_result"
    }
   ],
   "source": [
    "#BRCA - LUAD interclass distance\n",
    "\n",
    "# Compute cosine distances between BRCA center and LUAD samples\n",
    "brca_to_luad_cos_similarities = cosine_similarity(norm_brca_df.iloc[0:1], norm_luad_df.iloc[1:])\n",
    "brca_to_luad_cos_distances = 1 - brca_to_luad_cos_similarities[0]\n",
    "min_distance_brca_to_luad = np.min(brca_to_luad_cos_distances)\n",
    "\n",
    "# Compute cosine distances between LUAD center and BRCA samples\n",
    "luad_to_brca_cos_similarities = cosine_similarity(norm_luad_df.iloc[0:1], norm_brca_df.iloc[1:])\n",
    "luad_to_brca_cos_distances = 1 - luad_to_brca_cos_similarities[0]\n",
    "min_distance_luad_to_brca = np.min(luad_to_brca_cos_distances)\n",
    "\n",
    "#Calculate the overlap between BRCA and LUAD\n",
    "brca_luad_inter_dist = (min(min_distance_brca_to_luad, min_distance_luad_to_brca))\n",
    "\n",
    "(brca_intra_class_dist + luad_intra_class_dist)/(2*brca_luad_inter_dist)"
   ]
  },
  {
   "cell_type": "code",
   "execution_count": 12,
   "metadata": {},
   "outputs": [
    {
     "data": {
      "text/plain": [
       "np.float64(2.109358084271288)"
      ]
     },
     "execution_count": 12,
     "metadata": {},
     "output_type": "execute_result"
    }
   ],
   "source": [
    "#BRCA - PRAD interclass distance\n",
    "\n",
    "# Compute cosine distances between BRCA center and PRAD samples\n",
    "brca_to_prad_cos_similarities = cosine_similarity(norm_brca_df.iloc[0:1], norm_prad_df.iloc[1:])\n",
    "brca_to_prad_cos_distances = 1 - brca_to_prad_cos_similarities[0]\n",
    "min_distance_brca_to_prad = np.min(brca_to_prad_cos_distances)\n",
    "\n",
    "# Compute cosine distances between PRAD center and BRCA samples\n",
    "prad_to_brca_cos_similarities = cosine_similarity(norm_prad_df.iloc[0:1], norm_brca_df.iloc[1:])\n",
    "prad_to_brca_cos_distances = 1 - prad_to_brca_cos_similarities[0]\n",
    "min_distance_prad_to_brca = np.min(prad_to_brca_cos_distances)\n",
    "\n",
    "#Calculate the overlap between BRCA and PRAD\n",
    "brca_prad_inter_dist = (min(min_distance_brca_to_prad, min_distance_prad_to_brca))\n",
    "\n",
    "(brca_intra_class_dist + prad_intra_class_dist)/(2*brca_prad_inter_dist)"
   ]
  },
  {
   "cell_type": "code",
   "execution_count": 13,
   "metadata": {},
   "outputs": [
    {
     "data": {
      "text/plain": [
       "np.float64(1.6674492281061788)"
      ]
     },
     "execution_count": 13,
     "metadata": {},
     "output_type": "execute_result"
    }
   ],
   "source": [
    "#BRCA - COAD interclass distance\n",
    "\n",
    "# Compute cosine distances between BRCA center and COAD samples\n",
    "brca_to_coad_cos_similarities = cosine_similarity(norm_brca_df.iloc[0:1], norm_coad_df.iloc[1:])\n",
    "brca_to_coad_cos_distances = 1 - brca_to_coad_cos_similarities[0]\n",
    "min_distance_brca_to_coad = np.min(brca_to_coad_cos_distances)\n",
    "\n",
    "# Compute cosine distances between COAD center and BRCA samples\n",
    "coad_to_brca_cos_similarities = cosine_similarity(norm_coad_df.iloc[0:1], norm_brca_df.iloc[1:])\n",
    "coad_to_brca_cos_distances = 1 - coad_to_brca_cos_similarities[0]\n",
    "min_distance_coad_to_brca = np.min(coad_to_brca_cos_distances)\n",
    "\n",
    "#Calculate the overlap between BRCA and COAD\n",
    "brca_coad_inter_dist = (min(min_distance_brca_to_coad, min_distance_coad_to_brca))\n",
    "\n",
    "(brca_intra_class_dist + coad_intra_class_dist)/(2*brca_coad_inter_dist)"
   ]
  },
  {
   "cell_type": "code",
   "execution_count": 14,
   "metadata": {},
   "outputs": [
    {
     "data": {
      "text/plain": [
       "np.float64(1.8168122497372639)"
      ]
     },
     "execution_count": 14,
     "metadata": {},
     "output_type": "execute_result"
    }
   ],
   "source": [
    "#KIRC - LUAD interclass distance\n",
    "\n",
    "# Compute cosine distances between KIRC center and LUAD samples\n",
    "kirc_to_luad_cos_similarities = cosine_similarity(norm_kirc_df.iloc[0:1], norm_luad_df.iloc[1:])\n",
    "kirc_to_luad_cos_distances = 1 - kirc_to_luad_cos_similarities[0]\n",
    "min_distance_kirc_to_luad = np.min(kirc_to_luad_cos_distances)\n",
    "\n",
    "# Compute cosine distances between LUAD center and KIRC samples\n",
    "luad_to_kirc_cos_similarities = cosine_similarity(norm_luad_df.iloc[0:1], norm_kirc_df.iloc[1:])\n",
    "luad_to_kirc_cos_distances = 1 - luad_to_kirc_cos_similarities[0]\n",
    "min_distance_luad_to_kirc = np.min(luad_to_kirc_cos_distances)\n",
    "\n",
    "#Calculate the overlap between KIRC and LUAD\n",
    "kirc_luad_inter_dist = (min(min_distance_kirc_to_luad, min_distance_luad_to_kirc))\n",
    "\n",
    "(kirc_intra_class_dist + luad_intra_class_dist)/(2*kirc_luad_inter_dist)"
   ]
  },
  {
   "cell_type": "code",
   "execution_count": 15,
   "metadata": {},
   "outputs": [
    {
     "data": {
      "text/plain": [
       "np.float64(1.3042953969176803)"
      ]
     },
     "execution_count": 15,
     "metadata": {},
     "output_type": "execute_result"
    }
   ],
   "source": [
    "#KIRC - PRAD interclass distance\n",
    "\n",
    "# Compute cosine distances between KIRC center and PRAD samples\n",
    "kirc_to_prad_cos_similarities = cosine_similarity(norm_kirc_df.iloc[0:1], norm_prad_df.iloc[1:])\n",
    "kirc_to_prad_cos_distances = 1 - kirc_to_prad_cos_similarities[0]\n",
    "min_distance_kirc_to_prad = np.min(kirc_to_prad_cos_distances)\n",
    "\n",
    "# Compute cosine distances between PRAD center and KIRC samples\n",
    "prad_to_kirc_cos_similarities = cosine_similarity(norm_prad_df.iloc[0:1], norm_kirc_df.iloc[1:])\n",
    "prad_to_kirc_cos_distances = 1 - prad_to_kirc_cos_similarities[0]\n",
    "min_distance_prad_to_kirc = np.min(prad_to_kirc_cos_distances)\n",
    "\n",
    "#Calculate the overlap between KIRC and PRAD\n",
    "kirc_prad_inter_dist = (min(min_distance_kirc_to_prad, min_distance_prad_to_kirc))\n",
    "\n",
    "(kirc_intra_class_dist + prad_intra_class_dist)/(2*kirc_prad_inter_dist)"
   ]
  },
  {
   "cell_type": "code",
   "execution_count": 16,
   "metadata": {},
   "outputs": [
    {
     "data": {
      "text/plain": [
       "np.float64(1.3305447364040988)"
      ]
     },
     "execution_count": 16,
     "metadata": {},
     "output_type": "execute_result"
    }
   ],
   "source": [
    "#KIRC - COAD interclass distance\n",
    "\n",
    "# Compute cosine distances between KIRC center and COAD samples\n",
    "kirc_to_coad_cos_similarities = cosine_similarity(norm_kirc_df.iloc[0:1], norm_coad_df.iloc[1:])\n",
    "kirc_to_coad_cos_distances = 1 - kirc_to_coad_cos_similarities[0]\n",
    "min_distance_kirc_to_coad = np.min(kirc_to_coad_cos_distances)\n",
    "\n",
    "# Compute cosine distances between COAD center and KIRC samples\n",
    "coad_to_kirc_cos_similarities = cosine_similarity(norm_coad_df.iloc[0:1], norm_kirc_df.iloc[1:])\n",
    "coad_to_kirc_cos_distances = 1 - coad_to_kirc_cos_similarities[0]\n",
    "min_distance_coad_to_kirc = np.min(coad_to_kirc_cos_distances)\n",
    "\n",
    "#Calculate the overlap between KIRC and COAD\n",
    "kirc_coad_inter_dist = (min(min_distance_kirc_to_coad, min_distance_coad_to_kirc))\n",
    "\n",
    "(kirc_intra_class_dist + coad_intra_class_dist)/(2*kirc_coad_inter_dist)"
   ]
  },
  {
   "cell_type": "code",
   "execution_count": 17,
   "metadata": {},
   "outputs": [
    {
     "data": {
      "text/plain": [
       "np.float64(1.8783950503565356)"
      ]
     },
     "execution_count": 17,
     "metadata": {},
     "output_type": "execute_result"
    }
   ],
   "source": [
    "#LUAD - PRAD interclass distance\n",
    "\n",
    "# Compute cosine distances between LUAD center and PRAD samples\n",
    "luad_to_prad_cos_similarities = cosine_similarity(norm_luad_df.iloc[0:1], norm_prad_df.iloc[1:])\n",
    "luad_to_prad_cos_distances = 1 - luad_to_prad_cos_similarities[0]\n",
    "min_distance_luad_to_prad = np.min(luad_to_prad_cos_distances)\n",
    "\n",
    "# Compute cosine distances between PRAD center and LUAD samples\n",
    "prad_to_luad_cos_similarities = cosine_similarity(norm_prad_df.iloc[0:1], norm_luad_df.iloc[1:])\n",
    "prad_to_luad_cos_distances = 1 - prad_to_luad_cos_similarities[0]\n",
    "min_distance_prad_to_luad = np.min(prad_to_luad_cos_distances)\n",
    "\n",
    "#Calculate the overlap between LUAD and PRAD\n",
    "luad_prad_inter_dist = (min(min_distance_luad_to_prad, min_distance_prad_to_luad))\n",
    "\n",
    "(luad_intra_class_dist + prad_intra_class_dist)/(2*luad_prad_inter_dist)"
   ]
  },
  {
   "cell_type": "code",
   "execution_count": 18,
   "metadata": {},
   "outputs": [
    {
     "data": {
      "text/plain": [
       "np.float64(1.9120936739333874)"
      ]
     },
     "execution_count": 18,
     "metadata": {},
     "output_type": "execute_result"
    }
   ],
   "source": [
    "#LUAD - COAD interclass distance\n",
    "\n",
    "# Compute cosine distances between LUAD center and COAD samples\n",
    "luad_to_coad_cos_similarities = cosine_similarity(norm_luad_df.iloc[0:1], norm_coad_df.iloc[1:])\n",
    "luad_to_coad_cos_distances = 1 - luad_to_coad_cos_similarities[0]\n",
    "min_distance_luad_to_coad = np.min(luad_to_coad_cos_distances)\n",
    "\n",
    "# Compute cosine distances between COAD center and LUAD samples\n",
    "coad_to_luad_cos_similarities = cosine_similarity(norm_coad_df.iloc[0:1], norm_luad_df.iloc[1:])\n",
    "coad_to_luad_cos_distances = 1 - coad_to_luad_cos_similarities[0]\n",
    "min_distance_coad_to_luad = np.min(coad_to_luad_cos_distances)\n",
    "\n",
    "#Calculate the overlap between LUAD and COAD\n",
    "luad_coad_inter_dist = (min(min_distance_luad_to_coad, min_distance_coad_to_luad))\n",
    "\n",
    "(luad_intra_class_dist + coad_intra_class_dist)/(2*luad_coad_inter_dist)"
   ]
  },
  {
   "cell_type": "code",
   "execution_count": 19,
   "metadata": {},
   "outputs": [
    {
     "data": {
      "text/plain": [
       "np.float64(1.2482032507113954)"
      ]
     },
     "execution_count": 19,
     "metadata": {},
     "output_type": "execute_result"
    }
   ],
   "source": [
    "#PRAD - COAD interclass distance\n",
    "\n",
    "# Compute cosine distances between PRAD center and COAD samples\n",
    "prad_to_coad_cos_similarities = cosine_similarity(norm_prad_df.iloc[0:1], norm_coad_df.iloc[1:])\n",
    "prad_to_coad_cos_distances = 1 - prad_to_coad_cos_similarities[0]\n",
    "min_distance_prad_to_coad = np.min(prad_to_coad_cos_distances)\n",
    "\n",
    "# Compute cosine distances between COAD center and PRAD samples\n",
    "coad_to_prad_cos_similarities = cosine_similarity(norm_coad_df.iloc[0:1], norm_prad_df.iloc[1:])\n",
    "coad_to_prad_cos_distances = 1 - coad_to_prad_cos_similarities[0]\n",
    "min_distance_coad_to_prad = np.min(coad_to_prad_cos_distances)\n",
    "\n",
    "#Calculate the overlap between PRAD and COAD\n",
    "prad_coad_inter_dist = (min(min_distance_prad_to_coad, min_distance_coad_to_prad))\n",
    "\n",
    "(prad_intra_class_dist + coad_intra_class_dist)/(2*prad_coad_inter_dist)"
   ]
  },
  {
   "cell_type": "markdown",
   "metadata": {},
   "source": [
    "Avec la distance cosinus, on obtient les résultats suivants:\n",
    "```\n",
    "Le overlap entre toutes les classes est ­> 1. On ne peut pas dire que les classes sont bien séparées."
   ]
  }
 ],
 "metadata": {
  "kernelspec": {
   "display_name": "Python 3",
   "language": "python",
   "name": "python3"
  },
  "language_info": {
   "codemirror_mode": {
    "name": "ipython",
    "version": 3
   },
   "file_extension": ".py",
   "mimetype": "text/x-python",
   "name": "python",
   "nbconvert_exporter": "python",
   "pygments_lexer": "ipython3",
   "version": "3.10.11"
  },
  "orig_nbformat": 4
 },
 "nbformat": 4,
 "nbformat_minor": 2
}
