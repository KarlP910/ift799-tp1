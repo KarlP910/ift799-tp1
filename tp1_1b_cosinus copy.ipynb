{
 "cells": [
  {
   "cell_type": "markdown",
   "metadata": {},
   "source": [
    "Voici les CIP des membres de l'équipe\n",
    "\n",
    "- Karl Plourde - PLOK2502"
   ]
  },
  {
   "cell_type": "code",
   "execution_count": 1,
   "metadata": {},
   "outputs": [],
   "source": [
    "import pandas as pd\n",
    "import numpy as np\n",
    "from sklearn.metrics.pairwise import cosine_similarity"
   ]
  },
  {
   "cell_type": "code",
   "execution_count": 2,
   "metadata": {},
   "outputs": [],
   "source": [
    "#data_df = pd.read_csv('data/data.csv')\n",
    "#labels_df = pd.read_csv('data/labels.csv')"
   ]
  },
  {
   "cell_type": "code",
   "execution_count": 3,
   "metadata": {},
   "outputs": [
    {
     "data": {
      "text/html": [
       "<div>\n",
       "<style scoped>\n",
       "    .dataframe tbody tr th:only-of-type {\n",
       "        vertical-align: middle;\n",
       "    }\n",
       "\n",
       "    .dataframe tbody tr th {\n",
       "        vertical-align: top;\n",
       "    }\n",
       "\n",
       "    .dataframe thead th {\n",
       "        text-align: right;\n",
       "    }\n",
       "</style>\n",
       "<table border=\"1\" class=\"dataframe\">\n",
       "  <thead>\n",
       "    <tr style=\"text-align: right;\">\n",
       "      <th></th>\n",
       "      <th>gene_3307</th>\n",
       "      <th>gene_19463</th>\n",
       "      <th>gene_9021</th>\n",
       "      <th>gene_10074</th>\n",
       "      <th>gene_5026</th>\n",
       "      <th>gene_5531</th>\n",
       "      <th>gene_8125</th>\n",
       "      <th>gene_19136</th>\n",
       "      <th>gene_7545</th>\n",
       "      <th>gene_19284</th>\n",
       "      <th>...</th>\n",
       "      <th>gene_10430</th>\n",
       "      <th>gene_16238</th>\n",
       "      <th>gene_2106</th>\n",
       "      <th>gene_11667</th>\n",
       "      <th>gene_541</th>\n",
       "      <th>gene_3277</th>\n",
       "      <th>gene_9750</th>\n",
       "      <th>gene_14795</th>\n",
       "      <th>gene_12090</th>\n",
       "      <th>Class</th>\n",
       "    </tr>\n",
       "  </thead>\n",
       "  <tbody>\n",
       "    <tr>\n",
       "      <th>0</th>\n",
       "      <td>11.415758</td>\n",
       "      <td>6.713792</td>\n",
       "      <td>9.717445</td>\n",
       "      <td>5.462978</td>\n",
       "      <td>3.188164</td>\n",
       "      <td>10.220161</td>\n",
       "      <td>9.344651</td>\n",
       "      <td>7.224937</td>\n",
       "      <td>10.011297</td>\n",
       "      <td>2.015391</td>\n",
       "      <td>...</td>\n",
       "      <td>5.267892</td>\n",
       "      <td>1.334282</td>\n",
       "      <td>8.364734</td>\n",
       "      <td>4.583411</td>\n",
       "      <td>12.289624</td>\n",
       "      <td>0.000000</td>\n",
       "      <td>6.685632</td>\n",
       "      <td>0.000000</td>\n",
       "      <td>6.956974</td>\n",
       "      <td>PRAD</td>\n",
       "    </tr>\n",
       "    <tr>\n",
       "      <th>1</th>\n",
       "      <td>0.000000</td>\n",
       "      <td>5.696331</td>\n",
       "      <td>10.789949</td>\n",
       "      <td>2.438799</td>\n",
       "      <td>0.452595</td>\n",
       "      <td>9.458854</td>\n",
       "      <td>7.690829</td>\n",
       "      <td>7.050415</td>\n",
       "      <td>10.248272</td>\n",
       "      <td>3.352236</td>\n",
       "      <td>...</td>\n",
       "      <td>1.683023</td>\n",
       "      <td>0.452595</td>\n",
       "      <td>8.119496</td>\n",
       "      <td>4.755133</td>\n",
       "      <td>8.833175</td>\n",
       "      <td>0.000000</td>\n",
       "      <td>6.697802</td>\n",
       "      <td>8.904800</td>\n",
       "      <td>9.789561</td>\n",
       "      <td>PRAD</td>\n",
       "    </tr>\n",
       "    <tr>\n",
       "      <th>2</th>\n",
       "      <td>11.506258</td>\n",
       "      <td>1.267356</td>\n",
       "      <td>10.783334</td>\n",
       "      <td>2.175652</td>\n",
       "      <td>0.434882</td>\n",
       "      <td>10.896287</td>\n",
       "      <td>10.357684</td>\n",
       "      <td>5.690914</td>\n",
       "      <td>10.119797</td>\n",
       "      <td>4.775272</td>\n",
       "      <td>...</td>\n",
       "      <td>5.044958</td>\n",
       "      <td>0.000000</td>\n",
       "      <td>8.486915</td>\n",
       "      <td>4.080231</td>\n",
       "      <td>10.413078</td>\n",
       "      <td>0.000000</td>\n",
       "      <td>6.113686</td>\n",
       "      <td>0.434882</td>\n",
       "      <td>6.909977</td>\n",
       "      <td>PRAD</td>\n",
       "    </tr>\n",
       "    <tr>\n",
       "      <th>3</th>\n",
       "      <td>4.976602</td>\n",
       "      <td>4.809939</td>\n",
       "      <td>10.629038</td>\n",
       "      <td>4.183868</td>\n",
       "      <td>0.000000</td>\n",
       "      <td>9.942888</td>\n",
       "      <td>8.558907</td>\n",
       "      <td>6.345041</td>\n",
       "      <td>9.954172</td>\n",
       "      <td>3.749717</td>\n",
       "      <td>...</td>\n",
       "      <td>4.916338</td>\n",
       "      <td>1.194150</td>\n",
       "      <td>7.714953</td>\n",
       "      <td>5.179443</td>\n",
       "      <td>12.147065</td>\n",
       "      <td>1.194150</td>\n",
       "      <td>7.495663</td>\n",
       "      <td>0.894294</td>\n",
       "      <td>7.505923</td>\n",
       "      <td>PRAD</td>\n",
       "    </tr>\n",
       "    <tr>\n",
       "      <th>4</th>\n",
       "      <td>4.855342</td>\n",
       "      <td>6.849199</td>\n",
       "      <td>10.358344</td>\n",
       "      <td>3.315769</td>\n",
       "      <td>1.282855</td>\n",
       "      <td>10.535606</td>\n",
       "      <td>8.208849</td>\n",
       "      <td>4.602237</td>\n",
       "      <td>9.795803</td>\n",
       "      <td>2.897105</td>\n",
       "      <td>...</td>\n",
       "      <td>4.890622</td>\n",
       "      <td>0.000000</td>\n",
       "      <td>8.356518</td>\n",
       "      <td>4.227433</td>\n",
       "      <td>11.588968</td>\n",
       "      <td>1.655260</td>\n",
       "      <td>7.194442</td>\n",
       "      <td>3.720497</td>\n",
       "      <td>7.986400</td>\n",
       "      <td>PRAD</td>\n",
       "    </tr>\n",
       "    <tr>\n",
       "      <th>...</th>\n",
       "      <td>...</td>\n",
       "      <td>...</td>\n",
       "      <td>...</td>\n",
       "      <td>...</td>\n",
       "      <td>...</td>\n",
       "      <td>...</td>\n",
       "      <td>...</td>\n",
       "      <td>...</td>\n",
       "      <td>...</td>\n",
       "      <td>...</td>\n",
       "      <td>...</td>\n",
       "      <td>...</td>\n",
       "      <td>...</td>\n",
       "      <td>...</td>\n",
       "      <td>...</td>\n",
       "      <td>...</td>\n",
       "      <td>...</td>\n",
       "      <td>...</td>\n",
       "      <td>...</td>\n",
       "      <td>...</td>\n",
       "      <td>...</td>\n",
       "    </tr>\n",
       "    <tr>\n",
       "      <th>135</th>\n",
       "      <td>11.543573</td>\n",
       "      <td>1.603929</td>\n",
       "      <td>10.056719</td>\n",
       "      <td>4.056401</td>\n",
       "      <td>2.137340</td>\n",
       "      <td>10.463330</td>\n",
       "      <td>9.755694</td>\n",
       "      <td>5.519602</td>\n",
       "      <td>9.969387</td>\n",
       "      <td>4.591973</td>\n",
       "      <td>...</td>\n",
       "      <td>5.100788</td>\n",
       "      <td>0.748375</td>\n",
       "      <td>8.067187</td>\n",
       "      <td>5.078029</td>\n",
       "      <td>12.156254</td>\n",
       "      <td>1.895147</td>\n",
       "      <td>6.459894</td>\n",
       "      <td>1.238665</td>\n",
       "      <td>7.201438</td>\n",
       "      <td>PRAD</td>\n",
       "    </tr>\n",
       "    <tr>\n",
       "      <th>136</th>\n",
       "      <td>7.811253</td>\n",
       "      <td>5.312331</td>\n",
       "      <td>9.211494</td>\n",
       "      <td>4.593372</td>\n",
       "      <td>2.914488</td>\n",
       "      <td>10.521757</td>\n",
       "      <td>8.069439</td>\n",
       "      <td>5.085331</td>\n",
       "      <td>10.178067</td>\n",
       "      <td>3.962401</td>\n",
       "      <td>...</td>\n",
       "      <td>6.796598</td>\n",
       "      <td>0.587845</td>\n",
       "      <td>8.097527</td>\n",
       "      <td>4.783242</td>\n",
       "      <td>12.138214</td>\n",
       "      <td>2.006585</td>\n",
       "      <td>6.578537</td>\n",
       "      <td>0.811142</td>\n",
       "      <td>7.691723</td>\n",
       "      <td>LUAD</td>\n",
       "    </tr>\n",
       "    <tr>\n",
       "      <th>137</th>\n",
       "      <td>4.259401</td>\n",
       "      <td>8.673715</td>\n",
       "      <td>9.224629</td>\n",
       "      <td>4.500955</td>\n",
       "      <td>4.205823</td>\n",
       "      <td>10.145091</td>\n",
       "      <td>8.298360</td>\n",
       "      <td>4.178276</td>\n",
       "      <td>9.985344</td>\n",
       "      <td>5.137868</td>\n",
       "      <td>...</td>\n",
       "      <td>6.117234</td>\n",
       "      <td>1.629660</td>\n",
       "      <td>7.678473</td>\n",
       "      <td>5.613187</td>\n",
       "      <td>11.953502</td>\n",
       "      <td>1.260809</td>\n",
       "      <td>6.338731</td>\n",
       "      <td>1.629660</td>\n",
       "      <td>7.552692</td>\n",
       "      <td>LUAD</td>\n",
       "    </tr>\n",
       "    <tr>\n",
       "      <th>138</th>\n",
       "      <td>10.149773</td>\n",
       "      <td>6.979442</td>\n",
       "      <td>9.538065</td>\n",
       "      <td>4.140901</td>\n",
       "      <td>2.469521</td>\n",
       "      <td>10.294529</td>\n",
       "      <td>8.247690</td>\n",
       "      <td>5.083413</td>\n",
       "      <td>11.084523</td>\n",
       "      <td>7.154332</td>\n",
       "      <td>...</td>\n",
       "      <td>6.224038</td>\n",
       "      <td>2.257644</td>\n",
       "      <td>8.995640</td>\n",
       "      <td>4.583327</td>\n",
       "      <td>11.363111</td>\n",
       "      <td>4.011549</td>\n",
       "      <td>6.489936</td>\n",
       "      <td>2.257644</td>\n",
       "      <td>9.545385</td>\n",
       "      <td>LUAD</td>\n",
       "    </tr>\n",
       "    <tr>\n",
       "      <th>139</th>\n",
       "      <td>3.566742</td>\n",
       "      <td>2.713036</td>\n",
       "      <td>9.550506</td>\n",
       "      <td>7.696300</td>\n",
       "      <td>1.967464</td>\n",
       "      <td>9.643178</td>\n",
       "      <td>9.137127</td>\n",
       "      <td>3.803888</td>\n",
       "      <td>9.716706</td>\n",
       "      <td>5.045229</td>\n",
       "      <td>...</td>\n",
       "      <td>4.325725</td>\n",
       "      <td>3.500828</td>\n",
       "      <td>8.230193</td>\n",
       "      <td>5.687170</td>\n",
       "      <td>12.941811</td>\n",
       "      <td>3.359198</td>\n",
       "      <td>7.075725</td>\n",
       "      <td>1.757706</td>\n",
       "      <td>9.757855</td>\n",
       "      <td>LUAD</td>\n",
       "    </tr>\n",
       "  </tbody>\n",
       "</table>\n",
       "<p>140 rows × 11803 columns</p>\n",
       "</div>"
      ],
      "text/plain": [
       "     gene_3307  gene_19463  gene_9021  gene_10074  gene_5026  gene_5531  \\\n",
       "0    11.415758    6.713792   9.717445    5.462978   3.188164  10.220161   \n",
       "1     0.000000    5.696331  10.789949    2.438799   0.452595   9.458854   \n",
       "2    11.506258    1.267356  10.783334    2.175652   0.434882  10.896287   \n",
       "3     4.976602    4.809939  10.629038    4.183868   0.000000   9.942888   \n",
       "4     4.855342    6.849199  10.358344    3.315769   1.282855  10.535606   \n",
       "..         ...         ...        ...         ...        ...        ...   \n",
       "135  11.543573    1.603929  10.056719    4.056401   2.137340  10.463330   \n",
       "136   7.811253    5.312331   9.211494    4.593372   2.914488  10.521757   \n",
       "137   4.259401    8.673715   9.224629    4.500955   4.205823  10.145091   \n",
       "138  10.149773    6.979442   9.538065    4.140901   2.469521  10.294529   \n",
       "139   3.566742    2.713036   9.550506    7.696300   1.967464   9.643178   \n",
       "\n",
       "     gene_8125  gene_19136  gene_7545  gene_19284  ...  gene_10430  \\\n",
       "0     9.344651    7.224937  10.011297    2.015391  ...    5.267892   \n",
       "1     7.690829    7.050415  10.248272    3.352236  ...    1.683023   \n",
       "2    10.357684    5.690914  10.119797    4.775272  ...    5.044958   \n",
       "3     8.558907    6.345041   9.954172    3.749717  ...    4.916338   \n",
       "4     8.208849    4.602237   9.795803    2.897105  ...    4.890622   \n",
       "..         ...         ...        ...         ...  ...         ...   \n",
       "135   9.755694    5.519602   9.969387    4.591973  ...    5.100788   \n",
       "136   8.069439    5.085331  10.178067    3.962401  ...    6.796598   \n",
       "137   8.298360    4.178276   9.985344    5.137868  ...    6.117234   \n",
       "138   8.247690    5.083413  11.084523    7.154332  ...    6.224038   \n",
       "139   9.137127    3.803888   9.716706    5.045229  ...    4.325725   \n",
       "\n",
       "     gene_16238  gene_2106  gene_11667   gene_541  gene_3277  gene_9750  \\\n",
       "0      1.334282   8.364734    4.583411  12.289624   0.000000   6.685632   \n",
       "1      0.452595   8.119496    4.755133   8.833175   0.000000   6.697802   \n",
       "2      0.000000   8.486915    4.080231  10.413078   0.000000   6.113686   \n",
       "3      1.194150   7.714953    5.179443  12.147065   1.194150   7.495663   \n",
       "4      0.000000   8.356518    4.227433  11.588968   1.655260   7.194442   \n",
       "..          ...        ...         ...        ...        ...        ...   \n",
       "135    0.748375   8.067187    5.078029  12.156254   1.895147   6.459894   \n",
       "136    0.587845   8.097527    4.783242  12.138214   2.006585   6.578537   \n",
       "137    1.629660   7.678473    5.613187  11.953502   1.260809   6.338731   \n",
       "138    2.257644   8.995640    4.583327  11.363111   4.011549   6.489936   \n",
       "139    3.500828   8.230193    5.687170  12.941811   3.359198   7.075725   \n",
       "\n",
       "     gene_14795  gene_12090  Class  \n",
       "0      0.000000    6.956974   PRAD  \n",
       "1      8.904800    9.789561   PRAD  \n",
       "2      0.434882    6.909977   PRAD  \n",
       "3      0.894294    7.505923   PRAD  \n",
       "4      3.720497    7.986400   PRAD  \n",
       "..          ...         ...    ...  \n",
       "135    1.238665    7.201438   PRAD  \n",
       "136    0.811142    7.691723   LUAD  \n",
       "137    1.629660    7.552692   LUAD  \n",
       "138    2.257644    9.545385   LUAD  \n",
       "139    1.757706    9.757855   LUAD  \n",
       "\n",
       "[140 rows x 11803 columns]"
      ]
     },
     "execution_count": 3,
     "metadata": {},
     "output_type": "execute_result"
    }
   ],
   "source": [
    "#both_df = pd.merge(labels_df, data_df, on='Unnamed: 0', how='left')\n",
    "#both_df.rename(columns={'Unnamed: 0': 'id'}, inplace=True)\n",
    "#both_df.set_index('id', inplace=True)\n",
    "#both_df.head()\n",
    "both_df = pd.read_csv('data\\\\final_df.csv')\n",
    "\n",
    "\n",
    "\n",
    "both_df.head(140)"
   ]
  },
  {
   "cell_type": "code",
   "execution_count": 4,
   "metadata": {},
   "outputs": [
    {
     "name": "stderr",
     "output_type": "stream",
     "text": [
      "C:\\Users\\plok2502\\AppData\\Local\\Temp\\ipykernel_22892\\2811685454.py:3: SettingWithCopyWarning: \n",
      "A value is trying to be set on a copy of a slice from a DataFrame\n",
      "\n",
      "See the caveats in the documentation: https://pandas.pydata.org/pandas-docs/stable/user_guide/indexing.html#returning-a-view-versus-a-copy\n",
      "  brca_df.drop('Class', axis=1, inplace=True)\n"
     ]
    },
    {
     "data": {
      "text/plain": [
       "np.float64(0.024740433206527968)"
      ]
     },
     "execution_count": 4,
     "metadata": {},
     "output_type": "execute_result"
    }
   ],
   "source": [
    "#BRCA intraclass distance\n",
    "brca_df = both_df[both_df['Class'] == 'BRCA']\n",
    "brca_df.drop('Class', axis=1, inplace=True)\n",
    "brca_center = brca_df.mean(axis=0)\n",
    "brca_center = brca_center.to_frame().T\n",
    "brca_center.rename(index={0: 'BRCA CENTER'}, inplace=True)\n",
    "brca_df = pd.concat([brca_center, brca_df], axis=0)\n",
    "\n",
    "norm_brca_df = (brca_df.T / np.linalg.norm(brca_df, axis=1)).T\n",
    "brca_cos_similarities = cosine_similarity(norm_brca_df.iloc[0:1], norm_brca_df.iloc[1:])\n",
    "brca_cos_distances = 1 - brca_cos_similarities[0]\n",
    "brca_intra_class_dist = np.max(brca_cos_distances[1:])\n",
    "\n",
    "brca_intra_class_dist"
   ]
  },
  {
   "cell_type": "code",
   "execution_count": 5,
   "metadata": {},
   "outputs": [
    {
     "name": "stderr",
     "output_type": "stream",
     "text": [
      "C:\\Users\\plok2502\\AppData\\Local\\Temp\\ipykernel_22892\\559167690.py:3: SettingWithCopyWarning: \n",
      "A value is trying to be set on a copy of a slice from a DataFrame\n",
      "\n",
      "See the caveats in the documentation: https://pandas.pydata.org/pandas-docs/stable/user_guide/indexing.html#returning-a-view-versus-a-copy\n",
      "  kirc_df.drop('Class', axis=1, inplace=True)\n"
     ]
    },
    {
     "data": {
      "text/plain": [
       "np.float64(0.02503005829649063)"
      ]
     },
     "execution_count": 5,
     "metadata": {},
     "output_type": "execute_result"
    }
   ],
   "source": [
    "#KIRC intraclass distance\n",
    "kirc_df = both_df[both_df['Class'] == 'KIRC']\n",
    "kirc_df.drop('Class', axis=1, inplace=True)\n",
    "kirc_center = kirc_df.mean(axis=0)\n",
    "kirc_center = kirc_center.to_frame().T\n",
    "kirc_center.rename(index={0: 'KIRC CENTER'}, inplace=True)\n",
    "kirc_df = pd.concat([kirc_center, kirc_df], axis=0)\n",
    "\n",
    "norm_kirc_df = (kirc_df.T / np.linalg.norm(kirc_df, axis=1)).T\n",
    "kirc_cos_similarities = cosine_similarity(norm_kirc_df.iloc[0:1], norm_kirc_df.iloc[1:])\n",
    "kirc_cos_distances = 1 - kirc_cos_similarities[0]\n",
    "kirc_intra_class_dist = np.max(kirc_cos_distances[1:])\n",
    "kirc_intra_class_dist"
   ]
  },
  {
   "cell_type": "code",
   "execution_count": 6,
   "metadata": {},
   "outputs": [
    {
     "name": "stderr",
     "output_type": "stream",
     "text": [
      "C:\\Users\\plok2502\\AppData\\Local\\Temp\\ipykernel_22892\\3839066893.py:3: SettingWithCopyWarning: \n",
      "A value is trying to be set on a copy of a slice from a DataFrame\n",
      "\n",
      "See the caveats in the documentation: https://pandas.pydata.org/pandas-docs/stable/user_guide/indexing.html#returning-a-view-versus-a-copy\n",
      "  luad_df.drop('Class', axis=1, inplace=True)\n"
     ]
    },
    {
     "data": {
      "text/plain": [
       "np.float64(0.02837378580088612)"
      ]
     },
     "execution_count": 6,
     "metadata": {},
     "output_type": "execute_result"
    }
   ],
   "source": [
    "#LUAD intraclass distance\n",
    "luad_df = both_df[both_df['Class'] == 'LUAD']\n",
    "luad_df.drop('Class', axis=1, inplace=True)\n",
    "luad_center = luad_df.mean(axis=0)\n",
    "luad_center = luad_center.to_frame().T\n",
    "luad_center.rename(index={0: 'LUAD CENTER'}, inplace=True)\n",
    "luad_df = pd.concat([luad_center, luad_df], axis=0)\n",
    "\n",
    "norm_luad_df = (luad_df.T / np.linalg.norm(luad_df, axis=1)).T\n",
    "luad_cos_similarities = cosine_similarity(norm_luad_df.iloc[0:1], norm_luad_df.iloc[1:])\n",
    "luad_cos_distances = 1 - luad_cos_similarities[0]\n",
    "luad_intra_class_dist = np.max(luad_cos_distances[1:])\n",
    "luad_intra_class_dist"
   ]
  },
  {
   "cell_type": "code",
   "execution_count": 7,
   "metadata": {},
   "outputs": [
    {
     "name": "stderr",
     "output_type": "stream",
     "text": [
      "C:\\Users\\plok2502\\AppData\\Local\\Temp\\ipykernel_22892\\1380435723.py:3: SettingWithCopyWarning: \n",
      "A value is trying to be set on a copy of a slice from a DataFrame\n",
      "\n",
      "See the caveats in the documentation: https://pandas.pydata.org/pandas-docs/stable/user_guide/indexing.html#returning-a-view-versus-a-copy\n",
      "  prad_df.drop('Class', axis=1, inplace=True)\n"
     ]
    },
    {
     "data": {
      "text/plain": [
       "np.float64(0.020265264734777855)"
      ]
     },
     "execution_count": 7,
     "metadata": {},
     "output_type": "execute_result"
    }
   ],
   "source": [
    "#PRAD intraclass distance\n",
    "prad_df = both_df[both_df['Class'] == 'PRAD']\n",
    "prad_df.drop('Class', axis=1, inplace=True)\n",
    "prad_center = prad_df.mean(axis=0)\n",
    "prad_center = prad_center.to_frame().T\n",
    "prad_center.rename(index={0: 'PRAD CENTER'}, inplace=True)\n",
    "prad_df = pd.concat([prad_center, prad_df], axis=0)\n",
    "\n",
    "norm_prad_df = (prad_df.T / np.linalg.norm(prad_df, axis=1)).T\n",
    "prad_cos_similarities = cosine_similarity(norm_prad_df.iloc[0:1], norm_prad_df.iloc[1:])\n",
    "prad_cos_distances = 1 - prad_cos_similarities[0]\n",
    "prad_intra_class_dist = np.max(prad_cos_distances[1:])\n",
    "prad_intra_class_dist"
   ]
  },
  {
   "cell_type": "code",
   "execution_count": 8,
   "metadata": {},
   "outputs": [
    {
     "name": "stderr",
     "output_type": "stream",
     "text": [
      "C:\\Users\\plok2502\\AppData\\Local\\Temp\\ipykernel_22892\\612759739.py:3: SettingWithCopyWarning: \n",
      "A value is trying to be set on a copy of a slice from a DataFrame\n",
      "\n",
      "See the caveats in the documentation: https://pandas.pydata.org/pandas-docs/stable/user_guide/indexing.html#returning-a-view-versus-a-copy\n",
      "  coad_df.drop('Class', axis=1, inplace=True)\n"
     ]
    },
    {
     "data": {
      "text/plain": [
       "np.float64(0.01907407489867252)"
      ]
     },
     "execution_count": 8,
     "metadata": {},
     "output_type": "execute_result"
    }
   ],
   "source": [
    "#COAD intraclass distance\n",
    "coad_df = both_df[both_df['Class'] == 'COAD']\n",
    "coad_df.drop('Class', axis=1, inplace=True)\n",
    "coad_center = coad_df.mean(axis=0)\n",
    "coad_center = coad_center.to_frame().T\n",
    "coad_center.rename(index={0: 'COAD CENTER'}, inplace=True)\n",
    "coad_df = pd.concat([coad_center, coad_df], axis=0)\n",
    "\n",
    "norm_coad_df = (coad_df.T / np.linalg.norm(coad_df, axis=1)).T\n",
    "coad_cos_similarities = cosine_similarity(norm_coad_df.iloc[0:1], norm_coad_df.iloc[1:])\n",
    "coad_cos_distances = 1 - coad_cos_similarities[0]\n",
    "coad_intra_class_dist = np.max(coad_cos_distances[1:])\n",
    "coad_intra_class_dist"
   ]
  },
  {
   "cell_type": "code",
   "execution_count": 9,
   "metadata": {},
   "outputs": [
    {
     "data": {
      "text/plain": [
       "np.float64(1.4771767865187948)"
      ]
     },
     "execution_count": 9,
     "metadata": {},
     "output_type": "execute_result"
    }
   ],
   "source": [
    "#BRCA - KIRC interclass distance\n",
    "\n",
    "# Compute cosine distances between BRCA center and KIRC samples\n",
    "brca_to_kirc_cos_similarities = cosine_similarity(norm_brca_df.iloc[0:1], norm_kirc_df.iloc[1:])\n",
    "brca_to_kirc_cos_distances = 1 - brca_to_kirc_cos_similarities[0]\n",
    "min_distance_brca_to_kirc = np.min(brca_to_kirc_cos_distances)\n",
    "\n",
    "# Compute cosine distances between KIRC center and BRCA samples\n",
    "kirc_to_brca_cos_similarities = cosine_similarity(norm_kirc_df.iloc[0:1], norm_brca_df.iloc[1:])\n",
    "kirc_to_brca_cos_distances = 1 - kirc_to_brca_cos_similarities[0]\n",
    "min_distance_kirc_to_brca = np.min(kirc_to_brca_cos_distances)\n",
    "\n",
    "#Calculate the overlap between BRCA and KIRC\n",
    "brca_kirc_inter_dist = (min(min_distance_brca_to_kirc, min_distance_kirc_to_brca))\n",
    "\n",
    "(brca_intra_class_dist + kirc_intra_class_dist)/(2*brca_kirc_inter_dist)"
   ]
  },
  {
   "cell_type": "code",
   "execution_count": 10,
   "metadata": {},
   "outputs": [
    {
     "data": {
      "text/plain": [
       "np.float64(2.692543588938758)"
      ]
     },
     "execution_count": 10,
     "metadata": {},
     "output_type": "execute_result"
    }
   ],
   "source": [
    "#BRCA - LUAD interclass distance\n",
    "\n",
    "# Compute cosine distances between BRCA center and LUAD samples\n",
    "brca_to_luad_cos_similarities = cosine_similarity(norm_brca_df.iloc[0:1], norm_luad_df.iloc[1:])\n",
    "brca_to_luad_cos_distances = 1 - brca_to_luad_cos_similarities[0]\n",
    "min_distance_brca_to_luad = np.min(brca_to_luad_cos_distances)\n",
    "\n",
    "# Compute cosine distances between LUAD center and BRCA samples\n",
    "luad_to_brca_cos_similarities = cosine_similarity(norm_luad_df.iloc[0:1], norm_brca_df.iloc[1:])\n",
    "luad_to_brca_cos_distances = 1 - luad_to_brca_cos_similarities[0]\n",
    "min_distance_luad_to_brca = np.min(luad_to_brca_cos_distances)\n",
    "\n",
    "#Calculate the overlap between BRCA and LUAD\n",
    "brca_luad_inter_dist = (min(min_distance_brca_to_luad, min_distance_luad_to_brca))\n",
    "\n",
    "(brca_intra_class_dist + luad_intra_class_dist)/(2*brca_luad_inter_dist)"
   ]
  },
  {
   "cell_type": "code",
   "execution_count": 11,
   "metadata": {},
   "outputs": [
    {
     "data": {
      "text/plain": [
       "np.float64(2.089749416686677)"
      ]
     },
     "execution_count": 11,
     "metadata": {},
     "output_type": "execute_result"
    }
   ],
   "source": [
    "#BRCA - PRAD interclass distance\n",
    "\n",
    "# Compute cosine distances between BRCA center and PRAD samples\n",
    "brca_to_prad_cos_similarities = cosine_similarity(norm_brca_df.iloc[0:1], norm_prad_df.iloc[1:])\n",
    "brca_to_prad_cos_distances = 1 - brca_to_prad_cos_similarities[0]\n",
    "min_distance_brca_to_prad = np.min(brca_to_prad_cos_distances)\n",
    "\n",
    "# Compute cosine distances between PRAD center and BRCA samples\n",
    "prad_to_brca_cos_similarities = cosine_similarity(norm_prad_df.iloc[0:1], norm_brca_df.iloc[1:])\n",
    "prad_to_brca_cos_distances = 1 - prad_to_brca_cos_similarities[0]\n",
    "min_distance_prad_to_brca = np.min(prad_to_brca_cos_distances)\n",
    "\n",
    "#Calculate the overlap between BRCA and PRAD\n",
    "brca_prad_inter_dist = (min(min_distance_brca_to_prad, min_distance_prad_to_brca))\n",
    "\n",
    "(brca_intra_class_dist + prad_intra_class_dist)/(2*brca_prad_inter_dist)"
   ]
  },
  {
   "cell_type": "code",
   "execution_count": 12,
   "metadata": {},
   "outputs": [
    {
     "data": {
      "text/plain": [
       "np.float64(1.6032536146136713)"
      ]
     },
     "execution_count": 12,
     "metadata": {},
     "output_type": "execute_result"
    }
   ],
   "source": [
    "#BRCA - COAD interclass distance\n",
    "\n",
    "# Compute cosine distances between BRCA center and COAD samples\n",
    "brca_to_coad_cos_similarities = cosine_similarity(norm_brca_df.iloc[0:1], norm_coad_df.iloc[1:])\n",
    "brca_to_coad_cos_distances = 1 - brca_to_coad_cos_similarities[0]\n",
    "min_distance_brca_to_coad = np.min(brca_to_coad_cos_distances)\n",
    "\n",
    "# Compute cosine distances between COAD center and BRCA samples\n",
    "coad_to_brca_cos_similarities = cosine_similarity(norm_coad_df.iloc[0:1], norm_brca_df.iloc[1:])\n",
    "coad_to_brca_cos_distances = 1 - coad_to_brca_cos_similarities[0]\n",
    "min_distance_coad_to_brca = np.min(coad_to_brca_cos_distances)\n",
    "\n",
    "#Calculate the overlap between BRCA and COAD\n",
    "brca_coad_inter_dist = (min(min_distance_brca_to_coad, min_distance_coad_to_brca))\n",
    "\n",
    "(brca_intra_class_dist + coad_intra_class_dist)/(2*brca_coad_inter_dist)"
   ]
  },
  {
   "cell_type": "code",
   "execution_count": 13,
   "metadata": {},
   "outputs": [
    {
     "data": {
      "text/plain": [
       "np.float64(1.873953432163483)"
      ]
     },
     "execution_count": 13,
     "metadata": {},
     "output_type": "execute_result"
    }
   ],
   "source": [
    "#KIRC - LUAD interclass distance\n",
    "\n",
    "# Compute cosine distances between KIRC center and LUAD samples\n",
    "kirc_to_luad_cos_similarities = cosine_similarity(norm_kirc_df.iloc[0:1], norm_luad_df.iloc[1:])\n",
    "kirc_to_luad_cos_distances = 1 - kirc_to_luad_cos_similarities[0]\n",
    "min_distance_kirc_to_luad = np.min(kirc_to_luad_cos_distances)\n",
    "\n",
    "# Compute cosine distances between LUAD center and KIRC samples\n",
    "luad_to_kirc_cos_similarities = cosine_similarity(norm_luad_df.iloc[0:1], norm_kirc_df.iloc[1:])\n",
    "luad_to_kirc_cos_distances = 1 - luad_to_kirc_cos_similarities[0]\n",
    "min_distance_luad_to_kirc = np.min(luad_to_kirc_cos_distances)\n",
    "\n",
    "#Calculate the overlap between KIRC and LUAD\n",
    "kirc_luad_inter_dist = (min(min_distance_kirc_to_luad, min_distance_luad_to_kirc))\n",
    "\n",
    "(kirc_intra_class_dist + luad_intra_class_dist)/(2*kirc_luad_inter_dist)"
   ]
  },
  {
   "cell_type": "code",
   "execution_count": 14,
   "metadata": {},
   "outputs": [
    {
     "data": {
      "text/plain": [
       "np.float64(1.1518892984656781)"
      ]
     },
     "execution_count": 14,
     "metadata": {},
     "output_type": "execute_result"
    }
   ],
   "source": [
    "#KIRC - PRAD interclass distance\n",
    "\n",
    "# Compute cosine distances between KIRC center and PRAD samples\n",
    "kirc_to_prad_cos_similarities = cosine_similarity(norm_kirc_df.iloc[0:1], norm_prad_df.iloc[1:])\n",
    "kirc_to_prad_cos_distances = 1 - kirc_to_prad_cos_similarities[0]\n",
    "min_distance_kirc_to_prad = np.min(kirc_to_prad_cos_distances)\n",
    "\n",
    "# Compute cosine distances between PRAD center and KIRC samples\n",
    "prad_to_kirc_cos_similarities = cosine_similarity(norm_prad_df.iloc[0:1], norm_kirc_df.iloc[1:])\n",
    "prad_to_kirc_cos_distances = 1 - prad_to_kirc_cos_similarities[0]\n",
    "min_distance_prad_to_kirc = np.min(prad_to_kirc_cos_distances)\n",
    "\n",
    "#Calculate the overlap between KIRC and PRAD\n",
    "kirc_prad_inter_dist = (min(min_distance_kirc_to_prad, min_distance_prad_to_kirc))\n",
    "\n",
    "(kirc_intra_class_dist + prad_intra_class_dist)/(2*kirc_prad_inter_dist)"
   ]
  },
  {
   "cell_type": "code",
   "execution_count": 15,
   "metadata": {},
   "outputs": [
    {
     "data": {
      "text/plain": [
       "np.float64(1.2650990341439077)"
      ]
     },
     "execution_count": 15,
     "metadata": {},
     "output_type": "execute_result"
    }
   ],
   "source": [
    "#KIRC - COAD interclass distance\n",
    "\n",
    "# Compute cosine distances between KIRC center and COAD samples\n",
    "kirc_to_coad_cos_similarities = cosine_similarity(norm_kirc_df.iloc[0:1], norm_coad_df.iloc[1:])\n",
    "kirc_to_coad_cos_distances = 1 - kirc_to_coad_cos_similarities[0]\n",
    "min_distance_kirc_to_coad = np.min(kirc_to_coad_cos_distances)\n",
    "\n",
    "# Compute cosine distances between COAD center and KIRC samples\n",
    "coad_to_kirc_cos_similarities = cosine_similarity(norm_coad_df.iloc[0:1], norm_kirc_df.iloc[1:])\n",
    "coad_to_kirc_cos_distances = 1 - coad_to_kirc_cos_similarities[0]\n",
    "min_distance_coad_to_kirc = np.min(coad_to_kirc_cos_distances)\n",
    "\n",
    "#Calculate the overlap between KIRC and COAD\n",
    "kirc_coad_inter_dist = (min(min_distance_kirc_to_coad, min_distance_coad_to_kirc))\n",
    "\n",
    "(kirc_intra_class_dist + coad_intra_class_dist)/(2*kirc_coad_inter_dist)"
   ]
  },
  {
   "cell_type": "code",
   "execution_count": 16,
   "metadata": {},
   "outputs": [
    {
     "data": {
      "text/plain": [
       "np.float64(1.911050878829803)"
      ]
     },
     "execution_count": 16,
     "metadata": {},
     "output_type": "execute_result"
    }
   ],
   "source": [
    "#LUAD - PRAD interclass distance\n",
    "\n",
    "# Compute cosine distances between LUAD center and PRAD samples\n",
    "luad_to_prad_cos_similarities = cosine_similarity(norm_luad_df.iloc[0:1], norm_prad_df.iloc[1:])\n",
    "luad_to_prad_cos_distances = 1 - luad_to_prad_cos_similarities[0]\n",
    "min_distance_luad_to_prad = np.min(luad_to_prad_cos_distances)\n",
    "\n",
    "# Compute cosine distances between PRAD center and LUAD samples\n",
    "prad_to_luad_cos_similarities = cosine_similarity(norm_prad_df.iloc[0:1], norm_luad_df.iloc[1:])\n",
    "prad_to_luad_cos_distances = 1 - prad_to_luad_cos_similarities[0]\n",
    "min_distance_prad_to_luad = np.min(prad_to_luad_cos_distances)\n",
    "\n",
    "#Calculate the overlap between LUAD and PRAD\n",
    "luad_prad_inter_dist = (min(min_distance_luad_to_prad, min_distance_prad_to_luad))\n",
    "\n",
    "(luad_intra_class_dist + prad_intra_class_dist)/(2*luad_prad_inter_dist)"
   ]
  },
  {
   "cell_type": "code",
   "execution_count": 17,
   "metadata": {},
   "outputs": [
    {
     "data": {
      "text/plain": [
       "np.float64(2.06618965290401)"
      ]
     },
     "execution_count": 17,
     "metadata": {},
     "output_type": "execute_result"
    }
   ],
   "source": [
    "#LUAD - COAD interclass distance\n",
    "\n",
    "# Compute cosine distances between LUAD center and COAD samples\n",
    "luad_to_coad_cos_similarities = cosine_similarity(norm_luad_df.iloc[0:1], norm_coad_df.iloc[1:])\n",
    "luad_to_coad_cos_distances = 1 - luad_to_coad_cos_similarities[0]\n",
    "min_distance_luad_to_coad = np.min(luad_to_coad_cos_distances)\n",
    "\n",
    "# Compute cosine distances between COAD center and LUAD samples\n",
    "coad_to_luad_cos_similarities = cosine_similarity(norm_coad_df.iloc[0:1], norm_luad_df.iloc[1:])\n",
    "coad_to_luad_cos_distances = 1 - coad_to_luad_cos_similarities[0]\n",
    "min_distance_coad_to_luad = np.min(coad_to_luad_cos_distances)\n",
    "\n",
    "#Calculate the overlap between LUAD and COAD\n",
    "luad_coad_inter_dist = (min(min_distance_luad_to_coad, min_distance_coad_to_luad))\n",
    "\n",
    "(luad_intra_class_dist + coad_intra_class_dist)/(2*luad_coad_inter_dist)"
   ]
  },
  {
   "cell_type": "code",
   "execution_count": 22,
   "metadata": {},
   "outputs": [
    {
     "data": {
      "text/plain": [
       "np.float64(1.1388362611060983)"
      ]
     },
     "execution_count": 22,
     "metadata": {},
     "output_type": "execute_result"
    }
   ],
   "source": [
    "#PRAD - COAD interclass distance\n",
    "\n",
    "# Compute cosine distances between PRAD center and COAD samples\n",
    "prad_to_coad_cos_similarities = cosine_similarity(norm_prad_df.iloc[0:1], norm_coad_df.iloc[1:])\n",
    "prad_to_coad_cos_distances = 1 - prad_to_coad_cos_similarities[0]\n",
    "min_distance_prad_to_coad = np.min(prad_to_coad_cos_distances)\n",
    "\n",
    "# Compute cosine distances between COAD center and PRAD samples\n",
    "coad_to_prad_cos_similarities = cosine_similarity(norm_coad_df.iloc[0:1], norm_prad_df.iloc[1:])\n",
    "coad_to_prad_cos_distances = 1 - coad_to_prad_cos_similarities[0]\n",
    "min_distance_coad_to_prad = np.min(coad_to_prad_cos_distances)\n",
    "\n",
    "#Calculate the overlap between PRAD and COAD\n",
    "prad_coad_inter_dist = (min(min_distance_prad_to_coad, min_distance_coad_to_prad))\n",
    "prad_coad_inter_dist\n",
    "(prad_intra_class_dist + coad_intra_class_dist)/(2*prad_coad_inter_dist)"
   ]
  },
  {
   "cell_type": "code",
   "execution_count": 23,
   "metadata": {},
   "outputs": [
    {
     "name": "stdout",
     "output_type": "stream",
     "text": [
      "BRCA - KIRC: 0.016846491211221504\n",
      "BRCA - LUAD: 0.009863205042550227\n",
      "BRCA - PRAD: 0.010768204451197527\n",
      "BRCA - COAD: 0.01366424741096195\n",
      "KIRC - LUAD: 0.01424897843798656\n",
      "KIRC - PRAD: 0.01966131775492752\n",
      "KIRC - COAD: 0.017431099070045697\n",
      "LUAD - PRAD: 0.012725734064560124\n",
      "LUAD - COAD: 0.011481971326511853\n",
      "PRAD - COAD: 0.01727172771757457\n"
     ]
    }
   ],
   "source": [
    "# print all the interclass distances\n",
    "print('BRCA - KIRC:', brca_kirc_inter_dist)\n",
    "print('BRCA - LUAD:', brca_luad_inter_dist)\n",
    "print('BRCA - PRAD:', brca_prad_inter_dist)\n",
    "print('BRCA - COAD:', brca_coad_inter_dist)\n",
    "print('KIRC - LUAD:', kirc_luad_inter_dist)\n",
    "print('KIRC - PRAD:', kirc_prad_inter_dist)\n",
    "print('KIRC - COAD:', kirc_coad_inter_dist)\n",
    "print('LUAD - PRAD:', luad_prad_inter_dist)\n",
    "print('LUAD - COAD:', luad_coad_inter_dist)\n",
    "print('PRAD - COAD:', prad_coad_inter_dist)\n"
   ]
  },
  {
   "cell_type": "markdown",
   "metadata": {},
   "source": [
    "Avec la distance cosinus, on obtient les résultats suivants:\n",
    "```\n",
    "Le overlap entre toutes les classes est ­> 1. On ne peut pas dire que les classes sont bien séparées."
   ]
  }
 ],
 "metadata": {
  "kernelspec": {
   "display_name": "Python 3",
   "language": "python",
   "name": "python3"
  },
  "language_info": {
   "codemirror_mode": {
    "name": "ipython",
    "version": 3
   },
   "file_extension": ".py",
   "mimetype": "text/x-python",
   "name": "python",
   "nbconvert_exporter": "python",
   "pygments_lexer": "ipython3",
   "version": "3.10.11"
  },
  "orig_nbformat": 4
 },
 "nbformat": 4,
 "nbformat_minor": 2
}
