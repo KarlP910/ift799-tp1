{
 "cells": [
  {
   "cell_type": "markdown",
   "metadata": {},
   "source": [
    "Voici les CIP des membres de l'équipe\n",
    "\n",
    "- Karl Plourde - PLOK2502\n"
   ]
  },
  {
   "cell_type": "code",
   "execution_count": 1,
   "metadata": {},
   "outputs": [],
   "source": [
    "import pandas as pd\n",
    "import numpy as np"
   ]
  },
  {
   "cell_type": "code",
   "execution_count": 2,
   "metadata": {},
   "outputs": [],
   "source": [
    "data_df = pd.read_csv('data/data.csv')\n",
    "labels_df = pd.read_csv('data/labels.csv')"
   ]
  },
  {
   "cell_type": "code",
   "execution_count": 3,
   "metadata": {},
   "outputs": [
    {
     "data": {
      "text/html": [
       "<div>\n",
       "<style scoped>\n",
       "    .dataframe tbody tr th:only-of-type {\n",
       "        vertical-align: middle;\n",
       "    }\n",
       "\n",
       "    .dataframe tbody tr th {\n",
       "        vertical-align: top;\n",
       "    }\n",
       "\n",
       "    .dataframe thead th {\n",
       "        text-align: right;\n",
       "    }\n",
       "</style>\n",
       "<table border=\"1\" class=\"dataframe\">\n",
       "  <thead>\n",
       "    <tr style=\"text-align: right;\">\n",
       "      <th></th>\n",
       "      <th>Class</th>\n",
       "      <th>gene_0</th>\n",
       "      <th>gene_1</th>\n",
       "      <th>gene_2</th>\n",
       "      <th>gene_3</th>\n",
       "      <th>gene_4</th>\n",
       "      <th>gene_5</th>\n",
       "      <th>gene_6</th>\n",
       "      <th>gene_7</th>\n",
       "      <th>gene_8</th>\n",
       "      <th>...</th>\n",
       "      <th>gene_20521</th>\n",
       "      <th>gene_20522</th>\n",
       "      <th>gene_20523</th>\n",
       "      <th>gene_20524</th>\n",
       "      <th>gene_20525</th>\n",
       "      <th>gene_20526</th>\n",
       "      <th>gene_20527</th>\n",
       "      <th>gene_20528</th>\n",
       "      <th>gene_20529</th>\n",
       "      <th>gene_20530</th>\n",
       "    </tr>\n",
       "    <tr>\n",
       "      <th>id</th>\n",
       "      <th></th>\n",
       "      <th></th>\n",
       "      <th></th>\n",
       "      <th></th>\n",
       "      <th></th>\n",
       "      <th></th>\n",
       "      <th></th>\n",
       "      <th></th>\n",
       "      <th></th>\n",
       "      <th></th>\n",
       "      <th></th>\n",
       "      <th></th>\n",
       "      <th></th>\n",
       "      <th></th>\n",
       "      <th></th>\n",
       "      <th></th>\n",
       "      <th></th>\n",
       "      <th></th>\n",
       "      <th></th>\n",
       "      <th></th>\n",
       "      <th></th>\n",
       "    </tr>\n",
       "  </thead>\n",
       "  <tbody>\n",
       "    <tr>\n",
       "      <th>sample_0</th>\n",
       "      <td>PRAD</td>\n",
       "      <td>0.0</td>\n",
       "      <td>2.017209</td>\n",
       "      <td>3.265527</td>\n",
       "      <td>5.478487</td>\n",
       "      <td>10.431999</td>\n",
       "      <td>0.0</td>\n",
       "      <td>7.175175</td>\n",
       "      <td>0.591871</td>\n",
       "      <td>0.0</td>\n",
       "      <td>...</td>\n",
       "      <td>4.926711</td>\n",
       "      <td>8.210257</td>\n",
       "      <td>9.723516</td>\n",
       "      <td>7.220030</td>\n",
       "      <td>9.119813</td>\n",
       "      <td>12.003135</td>\n",
       "      <td>9.650743</td>\n",
       "      <td>8.921326</td>\n",
       "      <td>5.286759</td>\n",
       "      <td>0.0</td>\n",
       "    </tr>\n",
       "    <tr>\n",
       "      <th>sample_1</th>\n",
       "      <td>LUAD</td>\n",
       "      <td>0.0</td>\n",
       "      <td>0.592732</td>\n",
       "      <td>1.588421</td>\n",
       "      <td>7.586157</td>\n",
       "      <td>9.623011</td>\n",
       "      <td>0.0</td>\n",
       "      <td>6.816049</td>\n",
       "      <td>0.000000</td>\n",
       "      <td>0.0</td>\n",
       "      <td>...</td>\n",
       "      <td>4.593372</td>\n",
       "      <td>7.323865</td>\n",
       "      <td>9.740931</td>\n",
       "      <td>6.256586</td>\n",
       "      <td>8.381612</td>\n",
       "      <td>12.674552</td>\n",
       "      <td>10.517059</td>\n",
       "      <td>9.397854</td>\n",
       "      <td>2.094168</td>\n",
       "      <td>0.0</td>\n",
       "    </tr>\n",
       "    <tr>\n",
       "      <th>sample_2</th>\n",
       "      <td>PRAD</td>\n",
       "      <td>0.0</td>\n",
       "      <td>3.511759</td>\n",
       "      <td>4.327199</td>\n",
       "      <td>6.881787</td>\n",
       "      <td>9.870730</td>\n",
       "      <td>0.0</td>\n",
       "      <td>6.972130</td>\n",
       "      <td>0.452595</td>\n",
       "      <td>0.0</td>\n",
       "      <td>...</td>\n",
       "      <td>5.125213</td>\n",
       "      <td>8.127123</td>\n",
       "      <td>10.908640</td>\n",
       "      <td>5.401607</td>\n",
       "      <td>9.911597</td>\n",
       "      <td>9.045255</td>\n",
       "      <td>9.788359</td>\n",
       "      <td>10.090470</td>\n",
       "      <td>1.683023</td>\n",
       "      <td>0.0</td>\n",
       "    </tr>\n",
       "    <tr>\n",
       "      <th>sample_3</th>\n",
       "      <td>PRAD</td>\n",
       "      <td>0.0</td>\n",
       "      <td>3.663618</td>\n",
       "      <td>4.507649</td>\n",
       "      <td>6.659068</td>\n",
       "      <td>10.196184</td>\n",
       "      <td>0.0</td>\n",
       "      <td>7.843375</td>\n",
       "      <td>0.434882</td>\n",
       "      <td>0.0</td>\n",
       "      <td>...</td>\n",
       "      <td>6.076566</td>\n",
       "      <td>8.792959</td>\n",
       "      <td>10.141520</td>\n",
       "      <td>8.942805</td>\n",
       "      <td>9.601208</td>\n",
       "      <td>11.392682</td>\n",
       "      <td>9.694814</td>\n",
       "      <td>9.684365</td>\n",
       "      <td>3.292001</td>\n",
       "      <td>0.0</td>\n",
       "    </tr>\n",
       "    <tr>\n",
       "      <th>sample_4</th>\n",
       "      <td>BRCA</td>\n",
       "      <td>0.0</td>\n",
       "      <td>2.655741</td>\n",
       "      <td>2.821547</td>\n",
       "      <td>6.539454</td>\n",
       "      <td>9.738265</td>\n",
       "      <td>0.0</td>\n",
       "      <td>6.566967</td>\n",
       "      <td>0.360982</td>\n",
       "      <td>0.0</td>\n",
       "      <td>...</td>\n",
       "      <td>5.996032</td>\n",
       "      <td>8.891425</td>\n",
       "      <td>10.373790</td>\n",
       "      <td>7.181162</td>\n",
       "      <td>9.846910</td>\n",
       "      <td>11.922439</td>\n",
       "      <td>9.217749</td>\n",
       "      <td>9.461191</td>\n",
       "      <td>5.110372</td>\n",
       "      <td>0.0</td>\n",
       "    </tr>\n",
       "  </tbody>\n",
       "</table>\n",
       "<p>5 rows × 20532 columns</p>\n",
       "</div>"
      ],
      "text/plain": [
       "         Class  gene_0    gene_1    gene_2    gene_3     gene_4  gene_5  \\\n",
       "id                                                                        \n",
       "sample_0  PRAD     0.0  2.017209  3.265527  5.478487  10.431999     0.0   \n",
       "sample_1  LUAD     0.0  0.592732  1.588421  7.586157   9.623011     0.0   \n",
       "sample_2  PRAD     0.0  3.511759  4.327199  6.881787   9.870730     0.0   \n",
       "sample_3  PRAD     0.0  3.663618  4.507649  6.659068  10.196184     0.0   \n",
       "sample_4  BRCA     0.0  2.655741  2.821547  6.539454   9.738265     0.0   \n",
       "\n",
       "            gene_6    gene_7  gene_8  ...  gene_20521  gene_20522  gene_20523  \\\n",
       "id                                    ...                                       \n",
       "sample_0  7.175175  0.591871     0.0  ...    4.926711    8.210257    9.723516   \n",
       "sample_1  6.816049  0.000000     0.0  ...    4.593372    7.323865    9.740931   \n",
       "sample_2  6.972130  0.452595     0.0  ...    5.125213    8.127123   10.908640   \n",
       "sample_3  7.843375  0.434882     0.0  ...    6.076566    8.792959   10.141520   \n",
       "sample_4  6.566967  0.360982     0.0  ...    5.996032    8.891425   10.373790   \n",
       "\n",
       "          gene_20524  gene_20525  gene_20526  gene_20527  gene_20528  \\\n",
       "id                                                                     \n",
       "sample_0    7.220030    9.119813   12.003135    9.650743    8.921326   \n",
       "sample_1    6.256586    8.381612   12.674552   10.517059    9.397854   \n",
       "sample_2    5.401607    9.911597    9.045255    9.788359   10.090470   \n",
       "sample_3    8.942805    9.601208   11.392682    9.694814    9.684365   \n",
       "sample_4    7.181162    9.846910   11.922439    9.217749    9.461191   \n",
       "\n",
       "          gene_20529  gene_20530  \n",
       "id                                \n",
       "sample_0    5.286759         0.0  \n",
       "sample_1    2.094168         0.0  \n",
       "sample_2    1.683023         0.0  \n",
       "sample_3    3.292001         0.0  \n",
       "sample_4    5.110372         0.0  \n",
       "\n",
       "[5 rows x 20532 columns]"
      ]
     },
     "execution_count": 3,
     "metadata": {},
     "output_type": "execute_result"
    }
   ],
   "source": [
    "both_df = pd.merge(labels_df, data_df, on='Unnamed: 0', how='left')\n",
    "both_df.rename(columns={'Unnamed: 0': 'id'}, inplace=True)\n",
    "both_df.set_index('id', inplace=True)\n",
    "both_df.head()"
   ]
  },
  {
   "cell_type": "code",
   "execution_count": 4,
   "metadata": {},
   "outputs": [
    {
     "name": "stderr",
     "output_type": "stream",
     "text": [
      "C:\\Users\\plok2502\\AppData\\Local\\Temp\\ipykernel_19088\\3124475173.py:2: SettingWithCopyWarning: \n",
      "A value is trying to be set on a copy of a slice from a DataFrame\n",
      "\n",
      "See the caveats in the documentation: https://pandas.pydata.org/pandas-docs/stable/user_guide/indexing.html#returning-a-view-versus-a-copy\n",
      "  brca_df.drop('Class', axis=1, inplace=True)\n"
     ]
    },
    {
     "data": {
      "text/plain": [
       "np.float64(256.9586133692335)"
      ]
     },
     "execution_count": 4,
     "metadata": {},
     "output_type": "execute_result"
    }
   ],
   "source": [
    "brca_df = both_df[both_df['Class'] == 'BRCA']\n",
    "brca_df.drop('Class', axis=1, inplace=True)\n",
    "brca_center = brca_df.mean(axis=0)\n",
    "brca_center = brca_center.to_frame().T\n",
    "brca_center.rename(index={0: 'BRCA CENTER'}, inplace=True)\n",
    "brca_center.index.name = 'id'\n",
    "brca_df = pd.concat([brca_center, brca_df], axis=0)\n",
    "\n",
    "#Calculate max euclidean distance between BRCA center and all other samples\n",
    "brca_dist = brca_df.iloc[0].values - brca_df.iloc[1:].values\n",
    "brca_dist = np.linalg.norm(brca_dist, axis=1)\n",
    "intra_class_brca_dist = brca_dist.max()\n",
    "intra_class_brca_dist"
   ]
  },
  {
   "cell_type": "code",
   "execution_count": 5,
   "metadata": {},
   "outputs": [
    {
     "name": "stderr",
     "output_type": "stream",
     "text": [
      "C:\\Users\\plok2502\\AppData\\Local\\Temp\\ipykernel_19088\\1758355998.py:2: SettingWithCopyWarning: \n",
      "A value is trying to be set on a copy of a slice from a DataFrame\n",
      "\n",
      "See the caveats in the documentation: https://pandas.pydata.org/pandas-docs/stable/user_guide/indexing.html#returning-a-view-versus-a-copy\n",
      "  kirc_df.drop('Class', axis=1, inplace=True)\n"
     ]
    },
    {
     "data": {
      "text/plain": [
       "np.float64(270.1335553730279)"
      ]
     },
     "execution_count": 5,
     "metadata": {},
     "output_type": "execute_result"
    }
   ],
   "source": [
    "kirc_df = both_df[both_df['Class'] == 'KIRC']\n",
    "kirc_df.drop('Class', axis=1, inplace=True)\n",
    "kirc_center = kirc_df.mean(axis=0)\n",
    "kirc_center = kirc_center.to_frame().T\n",
    "kirc_center.rename(index={0: 'KIRC CENTER'}, inplace=True)\n",
    "kirc_center.index.name = 'id'\n",
    "kirc_df = pd.concat([kirc_center, kirc_df], axis=0)\n",
    "\n",
    "#Calculate max euclidean distance between KIRC center and all other samples\n",
    "kirc_dist = kirc_df.iloc[0].values - kirc_df.iloc[1:].values\n",
    "kirc_dist = np.linalg.norm(kirc_dist, axis=1)\n",
    "intra_class_kirc_dist = kirc_dist.max()\n",
    "intra_class_kirc_dist"
   ]
  },
  {
   "cell_type": "code",
   "execution_count": 6,
   "metadata": {},
   "outputs": [
    {
     "name": "stderr",
     "output_type": "stream",
     "text": [
      "C:\\Users\\plok2502\\AppData\\Local\\Temp\\ipykernel_19088\\3360149141.py:2: SettingWithCopyWarning: \n",
      "A value is trying to be set on a copy of a slice from a DataFrame\n",
      "\n",
      "See the caveats in the documentation: https://pandas.pydata.org/pandas-docs/stable/user_guide/indexing.html#returning-a-view-versus-a-copy\n",
      "  luad_df.drop('Class', axis=1, inplace=True)\n"
     ]
    },
    {
     "data": {
      "text/plain": [
       "np.float64(258.4177518762109)"
      ]
     },
     "execution_count": 6,
     "metadata": {},
     "output_type": "execute_result"
    }
   ],
   "source": [
    "luad_df = both_df[both_df['Class'] == 'LUAD']\n",
    "luad_df.drop('Class', axis=1, inplace=True)\n",
    "luad_center = luad_df.mean(axis=0)\n",
    "luad_center = luad_center.to_frame().T\n",
    "luad_center.rename(index={0: 'LUAD CENTER'}, inplace=True)\n",
    "luad_center.index.name = 'id'\n",
    "luad_df = pd.concat([luad_center, luad_df], axis=0)\n",
    "\n",
    "#Calculate max euclidean distance between LUAD center and all other samples\n",
    "luad_dist = luad_df.iloc[0].values - luad_df.iloc[1:].values\n",
    "luad_dist = np.linalg.norm(luad_dist, axis=1)\n",
    "intra_class_luad_dist = luad_dist.max()\n",
    "intra_class_luad_dist"
   ]
  },
  {
   "cell_type": "code",
   "execution_count": 7,
   "metadata": {},
   "outputs": [
    {
     "name": "stderr",
     "output_type": "stream",
     "text": [
      "C:\\Users\\plok2502\\AppData\\Local\\Temp\\ipykernel_19088\\668876941.py:2: SettingWithCopyWarning: \n",
      "A value is trying to be set on a copy of a slice from a DataFrame\n",
      "\n",
      "See the caveats in the documentation: https://pandas.pydata.org/pandas-docs/stable/user_guide/indexing.html#returning-a-view-versus-a-copy\n",
      "  prad_df.drop('Class', axis=1, inplace=True)\n"
     ]
    },
    {
     "data": {
      "text/plain": [
       "np.float64(239.5735886229152)"
      ]
     },
     "execution_count": 7,
     "metadata": {},
     "output_type": "execute_result"
    }
   ],
   "source": [
    "prad_df = both_df[both_df['Class'] == 'PRAD']\n",
    "prad_df.drop('Class', axis=1, inplace=True)\n",
    "prad_center = prad_df.mean(axis=0)\n",
    "prad_center = prad_center.to_frame().T\n",
    "prad_center.rename(index={0: 'PRAD CENTER'}, inplace=True)\n",
    "prad_center.index.name = 'id'\n",
    "prad_df = pd.concat([prad_center, prad_df], axis=0)\n",
    "\n",
    "#Calculate max euclidean distance between PRAD center and all other PRAD samples\n",
    "prad_dist = prad_df.iloc[0].values - prad_df.iloc[1:].values\n",
    "prad_dist = np.linalg.norm(prad_dist, axis=1)\n",
    "intra_class_prad_dist = prad_dist.max()\n",
    "intra_class_prad_dist"
   ]
  },
  {
   "cell_type": "code",
   "execution_count": 8,
   "metadata": {},
   "outputs": [
    {
     "name": "stderr",
     "output_type": "stream",
     "text": [
      "C:\\Users\\plok2502\\AppData\\Local\\Temp\\ipykernel_19088\\2284525377.py:2: SettingWithCopyWarning: \n",
      "A value is trying to be set on a copy of a slice from a DataFrame\n",
      "\n",
      "See the caveats in the documentation: https://pandas.pydata.org/pandas-docs/stable/user_guide/indexing.html#returning-a-view-versus-a-copy\n",
      "  coad_df.drop('Class', axis=1, inplace=True)\n"
     ]
    },
    {
     "data": {
      "text/plain": [
       "np.float64(255.5253605031434)"
      ]
     },
     "execution_count": 8,
     "metadata": {},
     "output_type": "execute_result"
    }
   ],
   "source": [
    "coad_df = both_df[both_df['Class'] == 'COAD']\n",
    "coad_df.drop('Class', axis=1, inplace=True)\n",
    "coad_center = coad_df.mean(axis=0)\n",
    "coad_center = coad_center.to_frame().T\n",
    "coad_center.rename(index={0: 'COAD CENTER'}, inplace=True)\n",
    "coad_center.index.name = 'id'\n",
    "coad_df = pd.concat([coad_center, coad_df], axis=0)\n",
    "\n",
    "#Calculate max euclidean distance between COAD center and all other samples\n",
    "coad_dist = coad_df.iloc[0].values - coad_df.iloc[1:].values\n",
    "coad_dist = np.linalg.norm(coad_dist, axis=1)\n",
    "intra_class_coad_dist = coad_dist.max()\n",
    "intra_class_coad_dist"
   ]
  },
  {
   "cell_type": "code",
   "execution_count": 9,
   "metadata": {},
   "outputs": [
    {
     "data": {
      "text/plain": [
       "np.float64(1.224524120463559)"
      ]
     },
     "execution_count": 9,
     "metadata": {},
     "output_type": "execute_result"
    }
   ],
   "source": [
    "#Calculate the minimum euclidean distance between BRCA center and KIRC samples\n",
    "brca_dist = brca_df.iloc[0].values - kirc_df.iloc[1:].values\n",
    "brca_dist = np.linalg.norm(brca_dist, axis=1)\n",
    "brca_center_kirc = brca_dist.min()\n",
    "\n",
    "#Calculate the minimum euclidean distance between KIRC center and BRCA samples\n",
    "kirc_dist = kirc_df.iloc[0].values - brca_df.iloc[1:].values\n",
    "kirc_dist = np.linalg.norm(kirc_dist, axis=1)\n",
    "kirc_center_brca = kirc_dist.min()\n",
    "\n",
    "brca_kirc_inter_dist = min(brca_center_kirc, kirc_center_brca)\n",
    "\n",
    "#Calculate the overlap between BRCA and KIRC\n",
    "(intra_class_brca_dist + intra_class_kirc_dist)/(2*brca_kirc_inter_dist)"
   ]
  },
  {
   "cell_type": "code",
   "execution_count": 10,
   "metadata": {},
   "outputs": [
    {
     "data": {
      "text/plain": [
       "np.float64(1.5402502815281163)"
      ]
     },
     "execution_count": 10,
     "metadata": {},
     "output_type": "execute_result"
    }
   ],
   "source": [
    "#Calculate the minimum euclidean distance between BRCA center and LUAD samples\n",
    "brca_dist = brca_df.iloc[0].values - luad_df.iloc[1:].values\n",
    "brca_dist = np.linalg.norm(brca_dist, axis=1)\n",
    "brca_center_luad = brca_dist.min()\n",
    "\n",
    "#Calculate the minimum euclidean distance between LUAD center and BRCA samples\n",
    "luad_dist = luad_df.iloc[0].values - brca_df.iloc[1:].values\n",
    "luad_dist = np.linalg.norm(luad_dist, axis=1)\n",
    "luad_center_brca = luad_dist.min()\n",
    "\n",
    "brca_luad_inter_dist = min(brca_center_luad, luad_center_brca)\n",
    "\n",
    "#Calculate the overlap between BRCA and LUAD\n",
    "(intra_class_brca_dist + intra_class_luad_dist)/(2*brca_luad_inter_dist)"
   ]
  },
  {
   "cell_type": "code",
   "execution_count": 11,
   "metadata": {},
   "outputs": [
    {
     "data": {
      "text/plain": [
       "np.float64(1.3955277134572017)"
      ]
     },
     "execution_count": 11,
     "metadata": {},
     "output_type": "execute_result"
    }
   ],
   "source": [
    "#Calculate the minimum euclidean distance between BRCA center and PRAD samples\n",
    "brca_dist = brca_df.iloc[0].values - prad_df.iloc[1:].values\n",
    "brca_dist = np.linalg.norm(brca_dist, axis=1)\n",
    "brca_center_prad = brca_dist.min()\n",
    "\n",
    "#Calculate the minimum euclidean distance between PRAD center and BRCA samples\n",
    "prad_dist = prad_df.iloc[0].values - brca_df.iloc[1:].values\n",
    "prad_dist = np.linalg.norm(prad_dist, axis=1)\n",
    "prad_center_brca = prad_dist.min()\n",
    "\n",
    "prad_brca_inter_dist = min(prad_center_brca, brca_center_prad)\n",
    "\n",
    "#Calculate the overlap between PRAD and BRCA\n",
    "(intra_class_prad_dist + intra_class_brca_dist)/(2*prad_brca_inter_dist)"
   ]
  },
  {
   "cell_type": "code",
   "execution_count": 12,
   "metadata": {},
   "outputs": [
    {
     "data": {
      "text/plain": [
       "np.float64(1.2968460606188141)"
      ]
     },
     "execution_count": 12,
     "metadata": {},
     "output_type": "execute_result"
    }
   ],
   "source": [
    "#Calculate the minimum euclidean distance between BRCA center and COAD samples\n",
    "brca_dist = brca_df.iloc[0].values - coad_df.iloc[1:].values\n",
    "brca_dist = np.linalg.norm(brca_dist, axis=1)\n",
    "brca_center_coad = brca_dist.min()\n",
    "\n",
    "#Calculate the minimum euclidean distance between COAD center and BRCA samples\n",
    "coad_dist = coad_df.iloc[0].values - brca_df.iloc[1:].values\n",
    "coad_dist = np.linalg.norm(coad_dist, axis=1)\n",
    "coad_center_brca = coad_dist.min()\n",
    "\n",
    "coad_brca_inter_dist = min(coad_center_brca, brca_center_coad)\n",
    "\n",
    "#Calculate the overlap between COAD and BRCA\n",
    "(intra_class_coad_dist + intra_class_brca_dist)/(2*coad_brca_inter_dist)"
   ]
  },
  {
   "cell_type": "code",
   "execution_count": 13,
   "metadata": {},
   "outputs": [
    {
     "data": {
      "text/plain": [
       "np.float64(1.3210436966091181)"
      ]
     },
     "execution_count": 13,
     "metadata": {},
     "output_type": "execute_result"
    }
   ],
   "source": [
    "#Calculate the minimum euclidean distance between KIRC center and LUAD samples\n",
    "kirc_dist = kirc_df.iloc[0].values - luad_df.iloc[1:].values\n",
    "kirc_dist = np.linalg.norm(kirc_dist, axis=1)\n",
    "kirc_center_luad = kirc_dist.min()\n",
    "\n",
    "#Calculate the minimum euclidean distance between LUAD center and KIRC samples\n",
    "luad_dist = luad_df.iloc[0].values - kirc_df.iloc[1:].values\n",
    "luad_dist = np.linalg.norm(luad_dist, axis=1)\n",
    "luad_center_kirc = luad_dist.min()\n",
    "\n",
    "kirc_luad_inter_dist = min(kirc_center_luad, luad_center_kirc)\n",
    "\n",
    "#Calculate the overlap between KIRC and LUAD\n",
    "(intra_class_kirc_dist + intra_class_luad_dist)/(2*kirc_luad_inter_dist)"
   ]
  },
  {
   "cell_type": "code",
   "execution_count": 14,
   "metadata": {},
   "outputs": [
    {
     "data": {
      "text/plain": [
       "np.float64(1.1243409836776892)"
      ]
     },
     "execution_count": 14,
     "metadata": {},
     "output_type": "execute_result"
    }
   ],
   "source": [
    "#Calculate the minimum euclidean distance between KIRC center and PRAD samples\n",
    "kirc_dist = kirc_df.iloc[0].values - prad_df.iloc[1:].values\n",
    "kirc_dist = np.linalg.norm(kirc_dist, axis=1)\n",
    "kirc_center_prad = kirc_dist.min()\n",
    "\n",
    "#Calculate the minimum euclidean distance between PRAD center and KIRC samples\n",
    "prad_dist = prad_df.iloc[0].values - kirc_df.iloc[1:].values\n",
    "prad_dist = np.linalg.norm(prad_dist, axis=1)\n",
    "prad_center_kirc = prad_dist.min()\n",
    "\n",
    "kirc_prad_inter_dist = min(kirc_center_prad, prad_center_kirc)\n",
    "\n",
    "#Calculate the overlap between KIRC and PRAD\n",
    "(intra_class_kirc_dist + intra_class_prad_dist)/(2*kirc_prad_inter_dist)"
   ]
  },
  {
   "cell_type": "code",
   "execution_count": 15,
   "metadata": {},
   "outputs": [
    {
     "data": {
      "text/plain": [
       "np.float64(1.1787644748123114)"
      ]
     },
     "execution_count": 15,
     "metadata": {},
     "output_type": "execute_result"
    }
   ],
   "source": [
    "#Calculate the minimum euclidean distance between KIRC center and COAD samples\n",
    "kirc_dist = kirc_df.iloc[0].values - coad_df.iloc[1:].values\n",
    "kirc_dist = np.linalg.norm(kirc_dist, axis=1)\n",
    "kirc_center_coad = kirc_dist.min()\n",
    "\n",
    "#Calculate the minimum euclidean distance between COAD center and KIRC samples\n",
    "coad_dist = coad_df.iloc[0].values - kirc_df.iloc[1:].values\n",
    "coad_dist = np.linalg.norm(coad_dist, axis=1)\n",
    "coad_center_kirc = coad_dist.min()\n",
    "\n",
    "kirc_coad_inter_dist = min(kirc_center_coad, coad_center_kirc)\n",
    "\n",
    "#Calculate the overlap between KIRC and COAD\n",
    "(intra_class_kirc_dist + intra_class_coad_dist)/(2*kirc_coad_inter_dist)"
   ]
  },
  {
   "cell_type": "code",
   "execution_count": 16,
   "metadata": {},
   "outputs": [
    {
     "data": {
      "text/plain": [
       "np.float64(1.3315393621119949)"
      ]
     },
     "execution_count": 16,
     "metadata": {},
     "output_type": "execute_result"
    }
   ],
   "source": [
    "#Calculate the minimum euclidean distance between LUAD center and PRAD samples\n",
    "luad_dist = luad_df.iloc[0].values - prad_df.iloc[1:].values\n",
    "luad_dist = np.linalg.norm(luad_dist, axis=1)\n",
    "luad_center_prad = luad_dist.min()\n",
    "\n",
    "#Calculate the minimum euclidean distance between PRAD center and LUAD samples\n",
    "prad_dist = prad_df.iloc[0].values - luad_df.iloc[1:].values\n",
    "prad_dist = np.linalg.norm(prad_dist, axis=1)\n",
    "prad_center_luad = prad_dist.min()\n",
    "\n",
    "luad_prad_inter_dist = min(luad_center_prad, prad_center_luad)\n",
    "\n",
    "#Calculate the overlap between LUAD and PRAD\n",
    "(intra_class_luad_dist + intra_class_prad_dist)/(2*luad_prad_inter_dist)"
   ]
  },
  {
   "cell_type": "code",
   "execution_count": 17,
   "metadata": {},
   "outputs": [
    {
     "data": {
      "text/plain": [
       "np.float64(1.4188265653780758)"
      ]
     },
     "execution_count": 17,
     "metadata": {},
     "output_type": "execute_result"
    }
   ],
   "source": [
    "#Calculate the minimum euclidean distance between LUAD center and COAD samples\n",
    "luad_dist = luad_df.iloc[0].values - coad_df.iloc[1:].values\n",
    "luad_dist = np.linalg.norm(luad_dist, axis=1)\n",
    "luad_center_coad = luad_dist.min()\n",
    "\n",
    "#Calculate the minimum euclidean distance between COAD center and LUAD samples\n",
    "coad_dist = coad_df.iloc[0].values - luad_df.iloc[1:].values\n",
    "coad_dist = np.linalg.norm(coad_dist, axis=1)\n",
    "coad_center_luad = coad_dist.min()\n",
    "\n",
    "luad_coad_inter_dist = min(luad_center_coad, coad_center_luad)\n",
    "\n",
    "#Calculate the overlap between LUAD and COAD\n",
    "(intra_class_luad_dist + intra_class_coad_dist)/(2*luad_coad_inter_dist)"
   ]
  },
  {
   "cell_type": "code",
   "execution_count": 18,
   "metadata": {},
   "outputs": [
    {
     "data": {
      "text/plain": [
       "np.float64(1.1327349742729789)"
      ]
     },
     "execution_count": 18,
     "metadata": {},
     "output_type": "execute_result"
    }
   ],
   "source": [
    "#Calculate the minimum euclidean distance between PRAD center and COAD samples\n",
    "prad_dist = prad_df.iloc[0].values - coad_df.iloc[1:].values\n",
    "prad_dist = np.linalg.norm(prad_dist, axis=1)\n",
    "prad_center_coad = prad_dist.min()\n",
    "\n",
    "#Calculate the minimum euclidean distance between COAD center and PRAD samples\n",
    "coad_dist = coad_df.iloc[0].values - prad_df.iloc[1:].values\n",
    "coad_dist = np.linalg.norm(coad_dist, axis=1)\n",
    "coad_center_prad = coad_dist.min()\n",
    "\n",
    "prad_coad_inter_dist = min(prad_center_coad, coad_center_prad)\n",
    "\n",
    "#Calculate the overlap between PRAD and COAD\n",
    "(intra_class_prad_dist + intra_class_coad_dist)/(2*prad_coad_inter_dist)"
   ]
  },
  {
   "cell_type": "markdown",
   "metadata": {},
   "source": [
    "Avec la distance euclidienne, on obtient les résultats suivants:\n",
    "```\n",
    "Le overlap entre toutes les classes est > à 1. On ne peut pas dire que les classes sont bien séparées."
   ]
  }
 ],
 "metadata": {
  "kernelspec": {
   "display_name": "Python 3",
   "language": "python",
   "name": "python3"
  },
  "language_info": {
   "codemirror_mode": {
    "name": "ipython",
    "version": 3
   },
   "file_extension": ".py",
   "mimetype": "text/x-python",
   "name": "python",
   "nbconvert_exporter": "python",
   "pygments_lexer": "ipython3",
   "version": "3.10.11"
  },
  "orig_nbformat": 4
 },
 "nbformat": 4,
 "nbformat_minor": 2
}
